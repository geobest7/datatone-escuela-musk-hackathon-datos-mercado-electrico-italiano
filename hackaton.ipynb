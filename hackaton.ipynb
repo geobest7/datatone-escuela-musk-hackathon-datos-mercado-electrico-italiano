{
 "cells": [
  {
   "cell_type": "markdown",
   "metadata": {},
   "source": [
    "# Análisis del Mercado Eléctrico Italiano\n",
    "\n",
    "## Contexto\n",
    "Este análisis se basa en un conjunto de datos sobre el mercado eléctrico italiano, disponible en Kaggle. El dataset cubre el periodo de 2012 a 2022 y proporciona información sobre la demanda de electricidad, las fuentes de producción de energía y los precios de la electricidad en Italia. Durante este periodo, Italia ha enfrentado una transición energética debido a cambios en la oferta y la demanda de energía, impulsados por factores como las interrupciones en el suministro de gas, la mayor inversión en energías renovables y las tensiones geopolíticas. Estos cambios son cruciales para comprender las variaciones en la demanda de electricidad.\n",
    "\n",
    "El objetivo de este análisis es explorar y entender cómo ha evolucionado la demanda eléctrica a lo largo de los años, comparando las distintas regiones del país y realizando predicciones sobre la futura demanda. Este análisis es clave para la optimización de la producción y distribución de energía.\n",
    "\n",
    "## Archivos del Dataset\n",
    "El conjunto de datos está compuesto por varios archivos CSV que contienen información específica sobre la producción, la demanda y los precios de la electricidad en Italia. A continuación se describen los archivos y sus características:\n",
    "\n",
    "1. **`NYMEX_DL_TTF1_1D.csv`** (73.38 KB)\n",
    "   - **Descripción**: Contiene datos sobre los futuros continuos del gas natural holandés (Dutch Natural Gas Continuous Future), que es relevante para entender los precios de la energía en Europa.\n",
    "   - **Características**: Datos de precios futuros del gas natural, lo cual puede influir en el precio de la electricidad.\n",
    "\n",
    "2. **`electricity-prod-source-stacked.csv`** (377.27 KB)\n",
    "   - **Descripción**: Proporciona información sobre la producción de electricidad en Italia, desglosada por fuente de energía (renovables, fósiles, etc.).\n",
    "   - **Características**: Contiene la proporción de electricidad generada por cada tipo de fuente de energía, lo que es esencial para comprender cómo varía la oferta de electricidad según las fuentes de energía.\n",
    "\n",
    "3. **`it_electricity_demand_adj.csv`** (7.94 MB)\n",
    "   - **Descripción**: Contiene datos ajustados sobre la demanda eléctrica horaria en Italia durante el período cubierto (2012-2022).\n",
    "   - **Características**: Detalla el consumo de electricidad por hora en diferentes regiones de Italia (por ejemplo, Norte, Sur, Centro-Norte, etc.).\n",
    "\n",
    "4. **`it_electricity_prices_adj.csv`** (11.97 MB)\n",
    "   - **Descripción**: Contiene información sobre los precios horarios de la electricidad en Italia, ajustados para reflejar las tendencias económicas.\n",
    "   - **Características**: Información sobre el precio de la electricidad por megavatio hora (€/MWh), lo que permite observar las fluctuaciones de los precios a lo largo del tiempo."
   ]
  },
  {
   "cell_type": "code",
   "execution_count": 20,
   "metadata": {},
   "outputs": [
    {
     "name": "stdout",
     "output_type": "stream",
     "text": [
      "            Unnamed: 0     Italia      CNOR      CSUD       NORD      SARD  \\\n",
      "0  2012-01-01 01:00:00  24659.161  2662.703  4534.718  11693.113  1460.687   \n",
      "1  2012-01-01 02:00:00  23387.590  2539.670  4240.313  11113.677  1437.934   \n",
      "2  2012-01-01 03:00:00  22090.760  2403.112  3927.174  10558.286  1410.237   \n",
      "3  2012-01-01 04:00:00  21009.116  2267.737  3692.188  10126.168  1379.016   \n",
      "4  2012-01-01 05:00:00  20350.988  2186.529  3569.043   9851.236  1340.877   \n",
      "\n",
      "       SICI       SUD  \n",
      "0  2013.582  2294.358  \n",
      "1  1926.623  2129.373  \n",
      "2  1825.260  1966.691  \n",
      "3  1712.619  1831.388  \n",
      "4  1627.099  1776.204  \n",
      "----------------------------------------------------------------------------------------\n",
      "<class 'pandas.core.frame.DataFrame'>\n",
      "RangeIndex: 93504 entries, 0 to 93503\n",
      "Data columns (total 8 columns):\n",
      " #   Column      Non-Null Count  Dtype  \n",
      "---  ------      --------------  -----  \n",
      " 0   Unnamed: 0  93504 non-null  object \n",
      " 1   Italia      93504 non-null  float64\n",
      " 2   CNOR        93504 non-null  float64\n",
      " 3   CSUD        93504 non-null  float64\n",
      " 4   NORD        93504 non-null  float64\n",
      " 5   SARD        93504 non-null  float64\n",
      " 6   SICI        93504 non-null  float64\n",
      " 7   SUD         93504 non-null  float64\n",
      "dtypes: float64(7), object(1)\n",
      "memory usage: 5.7+ MB\n",
      "None\n"
     ]
    }
   ],
   "source": [
    "import pandas as pd\n",
    "import numpy as np\n",
    "import matplotlib.pyplot as plt\n",
    "import seaborn as sns\n",
    "\n",
    "\n",
    "# Cargar los datos\n",
    "demand_df = pd.read_csv('it_electricity_demand_adj.csv')\n",
    "prices_df = pd.read_csv('it_electricity_prices_adj.csv')\n",
    "prod_df = pd.read_csv('electricity-prod-source-stacked.csv')\n",
    "gas_df = pd.read_csv('NYMEX_DL_TTF1 1D.csv')\n",
    "\n",
    "print(demand_df.head())\n",
    "print('----------------------------------------------------------------------------------------')\n",
    "print(demand_df.info())"
   ]
  },
  {
   "cell_type": "code",
   "execution_count": 21,
   "metadata": {},
   "outputs": [
    {
     "name": "stdout",
     "output_type": "stream",
     "text": [
      "             Datetime     Italia      CNOR      CSUD       NORD      SARD  \\\n",
      "0 2012-01-01 01:00:00  24659.161  2662.703  4534.718  11693.113  1460.687   \n",
      "1 2012-01-01 02:00:00  23387.590  2539.670  4240.313  11113.677  1437.934   \n",
      "2 2012-01-01 03:00:00  22090.760  2403.112  3927.174  10558.286  1410.237   \n",
      "3 2012-01-01 04:00:00  21009.116  2267.737  3692.188  10126.168  1379.016   \n",
      "4 2012-01-01 05:00:00  20350.988  2186.529  3569.043   9851.236  1340.877   \n",
      "\n",
      "       SICI       SUD  \n",
      "0  2013.582  2294.358  \n",
      "1  1926.623  2129.373  \n",
      "2  1825.260  1966.691  \n",
      "3  1712.619  1831.388  \n",
      "4  1627.099  1776.204  \n",
      "----------------------------------------------------------------------------------------\n",
      "<class 'pandas.core.frame.DataFrame'>\n",
      "RangeIndex: 93504 entries, 0 to 93503\n",
      "Data columns (total 8 columns):\n",
      " #   Column    Non-Null Count  Dtype         \n",
      "---  ------    --------------  -----         \n",
      " 0   Datetime  93504 non-null  datetime64[ns]\n",
      " 1   Italia    93504 non-null  float64       \n",
      " 2   CNOR      93504 non-null  float64       \n",
      " 3   CSUD      93504 non-null  float64       \n",
      " 4   NORD      93504 non-null  float64       \n",
      " 5   SARD      93504 non-null  float64       \n",
      " 6   SICI      93504 non-null  float64       \n",
      " 7   SUD       93504 non-null  float64       \n",
      "dtypes: datetime64[ns](1), float64(7)\n",
      "memory usage: 5.7 MB\n",
      "None\n"
     ]
    }
   ],
   "source": [
    "# Convertir la columna 'Unnamed: 0' a formato de fecha y hora\n",
    "demand_df['Unnamed: 0'] = pd.to_datetime(demand_df['Unnamed: 0'])\n",
    "\n",
    "# renombrar la columna \"Unnamed\" a \"datetime\"\n",
    "demand_df = demand_df.rename(columns={'Unnamed: 0': 'Datetime'})\n",
    "\n",
    "# Verificar la conversión y la estructura de los datos\n",
    "print(demand_df.head())\n",
    "print('----------------------------------------------------------------------------------------')\n",
    "print(demand_df.info())\n",
    "\n"
   ]
  },
  {
   "cell_type": "code",
   "execution_count": 22,
   "metadata": {},
   "outputs": [
    {
     "name": "stdout",
     "output_type": "stream",
     "text": [
      "VALORES NULOS:\n",
      "Datetime    0\n",
      "Italia      0\n",
      "CNOR        0\n",
      "CSUD        0\n",
      "NORD        0\n",
      "SARD        0\n",
      "SICI        0\n",
      "SUD         0\n",
      "dtype: int64\n"
     ]
    }
   ],
   "source": [
    "# Comprobar si hay valores nulos\n",
    "print('VALORES NULOS:')\n",
    "print(demand_df.isnull().sum())"
   ]
  }
 ],
 "metadata": {
  "kernelspec": {
   "display_name": "Dataenv",
   "language": "python",
   "name": "python3"
  },
  "language_info": {
   "codemirror_mode": {
    "name": "ipython",
    "version": 3
   },
   "file_extension": ".py",
   "mimetype": "text/x-python",
   "name": "python",
   "nbconvert_exporter": "python",
   "pygments_lexer": "ipython3",
   "version": "3.13.0"
  }
 },
 "nbformat": 4,
 "nbformat_minor": 2
}
