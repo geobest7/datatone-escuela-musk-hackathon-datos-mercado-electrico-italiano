{
 "cells": [
  {
   "cell_type": "markdown",
   "metadata": {},
   "source": [
    "# Análisis del Mercado Eléctrico Italiano\n",
    "\n",
    "## Contexto\n",
    "Este análisis se basa en un conjunto de datos sobre el mercado eléctrico italiano, disponible en Kaggle. El dataset cubre el periodo de 2012 a 2022 y proporciona información sobre la demanda de electricidad, las fuentes de producción de energía y los precios de la electricidad en Italia. Durante este periodo, Italia ha enfrentado una transición energética debido a cambios en la oferta y la demanda de energía, impulsados por factores como las interrupciones en el suministro de gas, la mayor inversión en energías renovables y las tensiones geopolíticas. Estos cambios son cruciales para comprender las variaciones en la demanda de electricidad.\n",
    "\n",
    "El objetivo de este análisis es explorar y entender cómo ha evolucionado la demanda eléctrica a lo largo de los años, comparando las distintas regiones del país y realizando predicciones sobre la futura demanda. Este análisis es clave para la optimización de la producción y distribución de energía.\n",
    "\n",
    "## Archivos del Dataset\n",
    "El conjunto de datos está compuesto por varios archivos CSV que contienen información específica sobre la producción, la demanda y los precios de la electricidad en Italia. A continuación se describen los archivos y sus características:\n",
    "\n",
    "1. **`NYMEX_DL_TTF1_1D.csv`** (73.38 KB)\n",
    "   - **Descripción**: Contiene datos sobre los futuros continuos del gas natural holandés (Dutch Natural Gas Continuous Future), que es relevante para entender los precios de la energía en Europa.\n",
    "   - **Características**: Datos de precios futuros del gas natural, lo cual puede influir en el precio de la electricidad.\n",
    "\n",
    "2. **`electricity-prod-source-stacked.csv`** (377.27 KB)\n",
    "   - **Descripción**: Proporciona información sobre la producción de electricidad en Italia, desglosada por fuente de energía (renovables, fósiles, etc.).\n",
    "   - **Características**: Contiene la proporción de electricidad generada por cada tipo de fuente de energía, lo que es esencial para comprender cómo varía la oferta de electricidad según las fuentes de energía.\n",
    "\n",
    "3. **`it_electricity_demand_adj.csv`** (7.94 MB)\n",
    "   - **Descripción**: Contiene datos ajustados sobre la demanda eléctrica horaria en Italia durante el período cubierto (2012-2022).\n",
    "   - **Características**: Detalla el consumo de electricidad por hora en diferentes regiones de Italia (por ejemplo, Norte, Sur, Centro-Norte, etc.).\n",
    "\n",
    "4. **`it_electricity_prices_adj.csv`** (11.97 MB)\n",
    "   - **Descripción**: Contiene información sobre los precios horarios de la electricidad en Italia, ajustados para reflejar las tendencias económicas.\n",
    "   - **Características**: Información sobre el precio de la electricidad por megavatio hora (€/MWh), lo que permite observar las fluctuaciones de los precios a lo largo del tiempo."
   ]
  },
  {
   "cell_type": "code",
   "execution_count": 2,
   "metadata": {},
   "outputs": [
    {
     "name": "stdout",
     "output_type": "stream",
     "text": [
      "            Unnamed: 0     Italia      CNOR      CSUD       NORD      SARD  \\\n",
      "0  2012-01-01 01:00:00  24659.161  2662.703  4534.718  11693.113  1460.687   \n",
      "1  2012-01-01 02:00:00  23387.590  2539.670  4240.313  11113.677  1437.934   \n",
      "2  2012-01-01 03:00:00  22090.760  2403.112  3927.174  10558.286  1410.237   \n",
      "3  2012-01-01 04:00:00  21009.116  2267.737  3692.188  10126.168  1379.016   \n",
      "4  2012-01-01 05:00:00  20350.988  2186.529  3569.043   9851.236  1340.877   \n",
      "\n",
      "       SICI       SUD  \n",
      "0  2013.582  2294.358  \n",
      "1  1926.623  2129.373  \n",
      "2  1825.260  1966.691  \n",
      "3  1712.619  1831.388  \n",
      "4  1627.099  1776.204  \n",
      "----------------------------------------------------------------------------------------\n",
      "<class 'pandas.core.frame.DataFrame'>\n",
      "RangeIndex: 93504 entries, 0 to 93503\n",
      "Data columns (total 8 columns):\n",
      " #   Column      Non-Null Count  Dtype  \n",
      "---  ------      --------------  -----  \n",
      " 0   Unnamed: 0  93504 non-null  object \n",
      " 1   Italia      93504 non-null  float64\n",
      " 2   CNOR        93504 non-null  float64\n",
      " 3   CSUD        93504 non-null  float64\n",
      " 4   NORD        93504 non-null  float64\n",
      " 5   SARD        93504 non-null  float64\n",
      " 6   SICI        93504 non-null  float64\n",
      " 7   SUD         93504 non-null  float64\n",
      "dtypes: float64(7), object(1)\n",
      "memory usage: 5.7+ MB\n",
      "None\n"
     ]
    }
   ],
   "source": [
    "import pandas as pd\n",
    "import numpy as np\n",
    "import matplotlib.pyplot as plt\n",
    "import seaborn as sns\n",
    "\n",
    "\n",
    "# Cargar los datos\n",
    "demand_df = pd.read_csv('it_electricity_demand_adj.csv')\n",
    "prices_df = pd.read_csv('it_electricity_prices_adj.csv')\n",
    "prod_df = pd.read_csv('electricity-prod-source-stacked.csv')\n",
    "gas_df = pd.read_csv('NYMEX_DL_TTF1 1D.csv')\n",
    "\n",
    "print(demand_df.head())\n",
    "print('----------------------------------------------------------------------------------------')\n",
    "print(demand_df.info())"
   ]
  },
  {
   "cell_type": "code",
   "execution_count": 3,
   "metadata": {},
   "outputs": [
    {
     "name": "stdout",
     "output_type": "stream",
     "text": [
      "             Datetime     Italia      CNOR      CSUD       NORD      SARD  \\\n",
      "0 2012-01-01 01:00:00  24659.161  2662.703  4534.718  11693.113  1460.687   \n",
      "1 2012-01-01 02:00:00  23387.590  2539.670  4240.313  11113.677  1437.934   \n",
      "2 2012-01-01 03:00:00  22090.760  2403.112  3927.174  10558.286  1410.237   \n",
      "3 2012-01-01 04:00:00  21009.116  2267.737  3692.188  10126.168  1379.016   \n",
      "4 2012-01-01 05:00:00  20350.988  2186.529  3569.043   9851.236  1340.877   \n",
      "\n",
      "       SICI       SUD  \n",
      "0  2013.582  2294.358  \n",
      "1  1926.623  2129.373  \n",
      "2  1825.260  1966.691  \n",
      "3  1712.619  1831.388  \n",
      "4  1627.099  1776.204  \n",
      "----------------------------------------------------------------------------------------\n",
      "<class 'pandas.core.frame.DataFrame'>\n",
      "RangeIndex: 93504 entries, 0 to 93503\n",
      "Data columns (total 8 columns):\n",
      " #   Column    Non-Null Count  Dtype         \n",
      "---  ------    --------------  -----         \n",
      " 0   Datetime  93504 non-null  datetime64[ns]\n",
      " 1   Italia    93504 non-null  float64       \n",
      " 2   CNOR      93504 non-null  float64       \n",
      " 3   CSUD      93504 non-null  float64       \n",
      " 4   NORD      93504 non-null  float64       \n",
      " 5   SARD      93504 non-null  float64       \n",
      " 6   SICI      93504 non-null  float64       \n",
      " 7   SUD       93504 non-null  float64       \n",
      "dtypes: datetime64[ns](1), float64(7)\n",
      "memory usage: 5.7 MB\n",
      "None\n"
     ]
    }
   ],
   "source": [
    "# Convertir la columna 'Unnamed: 0' a formato de fecha y hora\n",
    "demand_df['Unnamed: 0'] = pd.to_datetime(demand_df['Unnamed: 0'])\n",
    "\n",
    "# renombrar la columna \"Unnamed\" a \"datetime\"\n",
    "demand_df = demand_df.rename(columns={'Unnamed: 0': 'Datetime'})\n",
    "\n",
    "# Verificar la conversión y la estructura de los datos\n",
    "print(demand_df.head())\n",
    "print('----------------------------------------------------------------------------------------')\n",
    "print(demand_df.info())\n",
    "\n"
   ]
  },
  {
   "cell_type": "code",
   "execution_count": 4,
   "metadata": {},
   "outputs": [
    {
     "name": "stdout",
     "output_type": "stream",
     "text": [
      "VALORES NULOS:\n",
      "Datetime    0\n",
      "Italia      0\n",
      "CNOR        0\n",
      "CSUD        0\n",
      "NORD        0\n",
      "SARD        0\n",
      "SICI        0\n",
      "SUD         0\n",
      "dtype: int64\n",
      "-----------------------------------------------------------------------------------\n",
      "                  Datetime        Italia          CNOR          CSUD  \\\n",
      "count                93504  93504.000000  93504.000000  93504.000000   \n",
      "mean   2017-05-02 00:30:00  32519.967098   3287.953532   5247.286205   \n",
      "min    2012-01-01 01:00:00  16272.977000   1550.070000   2580.443000   \n",
      "25%    2014-09-01 00:45:00  26502.196750   2643.802000   4318.080750   \n",
      "50%    2017-05-02 00:30:00  32016.382500   3224.852000   5258.185500   \n",
      "75%    2020-01-01 00:15:00  38450.967750   3913.896750   6099.085000   \n",
      "max    2022-09-01 00:00:00  50393.780000   6007.450000   8899.763000   \n",
      "std                    NaN   6818.933965    791.864286   1128.337246   \n",
      "\n",
      "               NORD          SARD          SICI           SUD  \n",
      "count  93504.000000  93504.000000  93504.000000  93504.000000  \n",
      "mean   18044.110305   1094.233445   2002.804697   2739.100341  \n",
      "min     8166.990000    597.899000   1073.614000   1262.988000  \n",
      "25%    14550.757750    922.851750   1695.348000   2240.614000  \n",
      "50%    17314.696000   1057.072000   1991.530000   2708.611000  \n",
      "75%    22020.391750   1213.210000   2282.411500   3180.742250  \n",
      "max    29379.431000   3136.701000   3445.039000   5216.077000  \n",
      "std     4297.024488    242.656407    403.076054    633.755961  \n"
     ]
    }
   ],
   "source": [
    "# Comprobar si hay valores nulos\n",
    "print('VALORES NULOS:')\n",
    "print(demand_df.isnull().sum())\n",
    "print('-----------------------------------------------------------------------------------')\n",
    "print(demand_df.describe())"
   ]
  },
  {
   "cell_type": "code",
   "execution_count": null,
   "metadata": {},
   "outputs": [
    {
     "name": "stdout",
     "output_type": "stream",
     "text": [
      "                 Datetime     Italia      CNOR      CSUD       NORD      SARD  \\\n",
      "0     2012-01-01 01:00:00  24659.161  2662.703  4534.718  11693.113  1460.687   \n",
      "1     2012-01-01 02:00:00  23387.590  2539.670  4240.313  11113.677  1437.934   \n",
      "2     2012-01-01 03:00:00  22090.760  2403.112  3927.174  10558.286  1410.237   \n",
      "3     2012-01-01 04:00:00  21009.116  2267.737  3692.188  10126.168  1379.016   \n",
      "4     2012-01-01 05:00:00  20350.988  2186.529  3569.043   9851.236  1340.877   \n",
      "...                   ...        ...       ...       ...        ...       ...   \n",
      "93499 2022-08-31 20:00:00  39234.945  3450.666  6835.219  21600.813  1233.899   \n",
      "93500 2022-08-31 21:00:00  39005.320  3417.592  6790.829  21280.509  1260.336   \n",
      "93501 2022-08-31 22:00:00  38956.535  3358.284  6855.084  20964.329  1305.351   \n",
      "93502 2022-08-31 23:00:00  37077.835  3172.588  6478.296  20155.819  1250.641   \n",
      "93503 2022-09-01 00:00:00  34155.930  2868.968  5940.663  18603.728  1162.996   \n",
      "\n",
      "           SICI       SUD  year  \n",
      "0      2013.582  2294.358  2012  \n",
      "1      1926.623  2129.373  2012  \n",
      "2      1825.260  1966.691  2012  \n",
      "3      1712.619  1831.388  2012  \n",
      "4      1627.099  1776.204  2012  \n",
      "...         ...       ...   ...  \n",
      "93499  2649.236  2596.832  2022  \n",
      "93500  2671.293  2687.000  2022  \n",
      "93501  2771.501  2734.668  2022  \n",
      "93502  2606.764  2528.687  2022  \n",
      "93503  2440.581  2344.631  2022  \n",
      "\n",
      "[93504 rows x 9 columns]\n"
     ]
    }
   ],
   "source": [
    "demand_df['year'] = demand_df['Datetime'].dt.year\n",
    "\n",
    "print(demand_df)\n"
   ]
  },
  {
   "cell_type": "code",
   "execution_count": 10,
   "metadata": {},
   "outputs": [
    {
     "name": "stdout",
     "output_type": "stream",
     "text": [
      "    year        Italia          CNOR          CSUD          NORD  \\\n",
      "0   2012  2.945348e+08  3.157968e+07  4.767508e+07  1.577065e+08   \n",
      "1   2013  2.852032e+08  2.851774e+07  4.433649e+07  1.564274e+08   \n",
      "2   2014  2.784616e+08  2.586894e+07  4.064183e+07  1.565127e+08   \n",
      "3   2015  2.826228e+08  2.811454e+07  4.497811e+07  1.558118e+08   \n",
      "4   2016  2.822920e+08  2.985886e+07  4.615561e+07  1.552723e+08   \n",
      "5   2017  2.860419e+08  3.124860e+07  4.657017e+07  1.591522e+08   \n",
      "6   2018  2.917606e+08  3.108157e+07  4.594104e+07  1.644496e+08   \n",
      "7   2019  2.889769e+08  3.095200e+07  4.574050e+07  1.620192e+08   \n",
      "8   2020  2.715093e+08  2.890833e+07  4.384289e+07  1.507080e+08   \n",
      "9   2021  2.860881e+08  2.457109e+07  5.061676e+07  1.609361e+08   \n",
      "10  2022  1.932558e+08  1.673546e+07  3.414375e+07  1.082007e+08   \n",
      "\n",
      "            SARD          SICI           SUD  \n",
      "0   1.263108e+07  1.991133e+07  2.503108e+07  \n",
      "1   1.089503e+07  1.932450e+07  2.570209e+07  \n",
      "2   1.141631e+07  1.804945e+07  2.597243e+07  \n",
      "3   8.868341e+06  1.561367e+07  2.923636e+07  \n",
      "4   8.748406e+06  1.654015e+07  2.571670e+07  \n",
      "5   8.813259e+06  1.708467e+07  2.317294e+07  \n",
      "6   8.974319e+06  1.768045e+07  2.363363e+07  \n",
      "7   8.908264e+06  1.733930e+07  2.401768e+07  \n",
      "8   8.405581e+06  1.662918e+07  2.301529e+07  \n",
      "9   8.857971e+06  1.712171e+07  1.809278e+07  \n",
      "10  5.796650e+06  1.197585e+07  1.252585e+07  \n"
     ]
    }
   ],
   "source": [
    "demand_por_zona_por_anio = demand_df.groupby(['year']).agg({\n",
    "    'Italia': 'sum',  # Sumar la columna 'Italia'\n",
    "    'CNOR': 'sum',    # Sumar la columna 'CNOR'\n",
    "    'CSUD': 'sum',    # Sumar la columna 'CSUD'\n",
    "    'NORD': 'sum',    # Sumar la columna 'NORD'\n",
    "    'SARD': 'sum',    # Sumar la columna 'SARD'\n",
    "    'SICI': 'sum',    # Sumar la columna 'SICI'\n",
    "    'SUD': 'sum'\n",
    "}).reset_index()\n",
    "\n",
    "print(demand_por_zona_por_anio)"
   ]
  }
 ],
 "metadata": {
  "kernelspec": {
   "display_name": "Dataenv",
   "language": "python",
   "name": "python3"
  },
  "language_info": {
   "codemirror_mode": {
    "name": "ipython",
    "version": 3
   },
   "file_extension": ".py",
   "mimetype": "text/x-python",
   "name": "python",
   "nbconvert_exporter": "python",
   "pygments_lexer": "ipython3",
   "version": "3.13.0"
  }
 },
 "nbformat": 4,
 "nbformat_minor": 2
}
