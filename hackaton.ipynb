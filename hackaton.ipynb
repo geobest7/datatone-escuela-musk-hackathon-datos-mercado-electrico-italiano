{
 "cells": [
  {
   "cell_type": "markdown",
   "metadata": {},
   "source": [
    "# Análisis del Mercado Eléctrico Italiano\n",
    "\n",
    "## Contexto\n",
    "Este análisis se basa en un conjunto de datos sobre el mercado eléctrico italiano, disponible en Kaggle. El dataset cubre el periodo de 2012 a 2022 y proporciona información sobre la demanda de electricidad, las fuentes de producción de energía y los precios de la electricidad en Italia. Durante este periodo, Italia ha enfrentado una transición energética debido a cambios en la oferta y la demanda de energía, impulsados por factores como las interrupciones en el suministro de gas, la mayor inversión en energías renovables y las tensiones geopolíticas. Estos cambios son cruciales para comprender las variaciones en la demanda de electricidad.\n",
    "\n",
    "El objetivo de este análisis es explorar y entender cómo ha evolucionado la demanda eléctrica a lo largo de los años, comparando las distintas regiones del país y realizando predicciones sobre la futura demanda. Este análisis es clave para la optimización de la producción y distribución de energía.\n",
    "\n",
    "## Archivos del Dataset\n",
    "El conjunto de datos está compuesto por varios archivos CSV que contienen información específica sobre la producción, la demanda y los precios de la electricidad en Italia. A continuación se describen los archivos y sus características:\n",
    "\n",
    "1. **`NYMEX_DL_TTF1_1D.csv`** (73.38 KB)\n",
    "   - **Descripción**: Contiene datos sobre los futuros continuos del gas natural holandés (Dutch Natural Gas Continuous Future), que es relevante para entender los precios de la energía en Europa.\n",
    "   - **Características**: Datos de precios futuros del gas natural, lo cual puede influir en el precio de la electricidad.\n",
    "\n",
    "2. **`electricity-prod-source-stacked.csv`** (377.27 KB)\n",
    "   - **Descripción**: Proporciona información sobre la producción de electricidad en Italia, desglosada por fuente de energía (renovables, fósiles, etc.).\n",
    "   - **Características**: Contiene la proporción de electricidad generada por cada tipo de fuente de energía, lo que es esencial para comprender cómo varía la oferta de electricidad según las fuentes de energía.\n",
    "\n",
    "3. **`it_electricity_demand_adj.csv`** (7.94 MB)\n",
    "   - **Descripción**: Contiene datos ajustados sobre la demanda eléctrica horaria en Italia durante el período cubierto (2012-2022).\n",
    "   - **Características**: Detalla el consumo de electricidad por hora en diferentes regiones de Italia (por ejemplo, Norte, Sur, Centro-Norte, etc.).\n",
    "\n",
    "4. **`it_electricity_prices_adj.csv`** (11.97 MB)\n",
    "   - **Descripción**: Contiene información sobre los precios horarios de la electricidad en Italia, ajustados para reflejar las tendencias económicas.\n",
    "   - **Características**: Información sobre el precio de la electricidad por megavatio hora (€/MWh), lo que permite observar las fluctuaciones de los precios a lo largo del tiempo."
   ]
  },
  {
   "cell_type": "code",
   "execution_count": 56,
   "metadata": {},
   "outputs": [],
   "source": [
    "import pandas as pd\n",
    "import numpy as np\n",
    "import matplotlib.pyplot as plt\n",
    "import seaborn as sns\n",
    "\n",
    "\n",
    "# Cargar los datos\n",
    "demanda_electrica_horaria_it_df = pd.read_csv('it_electricity_demand_adj.csv')\n",
    "prices_electricidad_ph_df = pd.read_csv('it_electricity_prices_adj.csv')\n",
    "prod_electricidad__df = pd.read_csv('electricity-prod-source-stacked.csv')\n",
    "gas_precios_futuros_df = pd.read_csv('NYMEX_DL_TTF1 1D.csv')\n",
    "\n"
   ]
  },
  {
   "cell_type": "markdown",
   "metadata": {},
   "source": [
    "### EMPEZAMOS A LIMPIAR Y ANALIZAR EL PRIMER DATASET"
   ]
  },
  {
   "cell_type": "code",
   "execution_count": 57,
   "metadata": {},
   "outputs": [
    {
     "name": "stdout",
     "output_type": "stream",
     "text": [
      "Info dataset demanda electrica horaria en Italia desde 2012 a 2022:\n",
      "<class 'pandas.core.frame.DataFrame'>\n",
      "RangeIndex: 93504 entries, 0 to 93503\n",
      "Data columns (total 8 columns):\n",
      " #   Column      Non-Null Count  Dtype  \n",
      "---  ------      --------------  -----  \n",
      " 0   Unnamed: 0  93504 non-null  object \n",
      " 1   Italia      93504 non-null  float64\n",
      " 2   CNOR        93504 non-null  float64\n",
      " 3   CSUD        93504 non-null  float64\n",
      " 4   NORD        93504 non-null  float64\n",
      " 5   SARD        93504 non-null  float64\n",
      " 6   SICI        93504 non-null  float64\n",
      " 7   SUD         93504 non-null  float64\n",
      "dtypes: float64(7), object(1)\n",
      "memory usage: 5.7+ MB\n",
      "None\n"
     ]
    }
   ],
   "source": [
    "print('Info dataset demanda electrica horaria en Italia desde 2012 a 2022:')\n",
    "print(demanda_electrica_horaria_it_df.info())"
   ]
  },
  {
   "cell_type": "code",
   "execution_count": 58,
   "metadata": {},
   "outputs": [
    {
     "name": "stdout",
     "output_type": "stream",
     "text": [
      "             Datetime     Italia      CNOR      CSUD       NORD      SARD  \\\n",
      "0 2012-01-01 01:00:00  24659.161  2662.703  4534.718  11693.113  1460.687   \n",
      "1 2012-01-01 02:00:00  23387.590  2539.670  4240.313  11113.677  1437.934   \n",
      "2 2012-01-01 03:00:00  22090.760  2403.112  3927.174  10558.286  1410.237   \n",
      "3 2012-01-01 04:00:00  21009.116  2267.737  3692.188  10126.168  1379.016   \n",
      "4 2012-01-01 05:00:00  20350.988  2186.529  3569.043   9851.236  1340.877   \n",
      "\n",
      "       SICI       SUD  \n",
      "0  2013.582  2294.358  \n",
      "1  1926.623  2129.373  \n",
      "2  1825.260  1966.691  \n",
      "3  1712.619  1831.388  \n",
      "4  1627.099  1776.204  \n"
     ]
    }
   ],
   "source": [
    "# Convertir la columna 'Unnamed: 0' a formato de fecha y hora\n",
    "demanda_electrica_horaria_it_df['Unnamed: 0'] = pd.to_datetime(demanda_electrica_horaria_it_df['Unnamed: 0'])\n",
    "\n",
    "# renombrar la columna \"Unnamed\" a \"datetime\"\n",
    "demanda_electrica_horaria_it_df = demanda_electrica_horaria_it_df.rename(columns={'Unnamed: 0': 'Datetime'})\n",
    "\n",
    "# Verificar la conversión y la estructura de los datos\n",
    "print(demanda_electrica_horaria_it_df.head())\n",
    "\n",
    "\n"
   ]
  },
  {
   "cell_type": "code",
   "execution_count": 59,
   "metadata": {},
   "outputs": [
    {
     "name": "stdout",
     "output_type": "stream",
     "text": [
      "VALORES NULOS:\n",
      "Datetime    0\n",
      "Italia      0\n",
      "CNOR        0\n",
      "CSUD        0\n",
      "NORD        0\n",
      "SARD        0\n",
      "SICI        0\n",
      "SUD         0\n",
      "dtype: int64\n",
      "-----------------------------------------------------------------------------------\n",
      "                  Datetime        Italia          CNOR          CSUD  \\\n",
      "count                93504  93504.000000  93504.000000  93504.000000   \n",
      "mean   2017-05-02 00:30:00  32519.967098   3287.953532   5247.286205   \n",
      "min    2012-01-01 01:00:00  16272.977000   1550.070000   2580.443000   \n",
      "25%    2014-09-01 00:45:00  26502.196750   2643.802000   4318.080750   \n",
      "50%    2017-05-02 00:30:00  32016.382500   3224.852000   5258.185500   \n",
      "75%    2020-01-01 00:15:00  38450.967750   3913.896750   6099.085000   \n",
      "max    2022-09-01 00:00:00  50393.780000   6007.450000   8899.763000   \n",
      "std                    NaN   6818.933965    791.864286   1128.337246   \n",
      "\n",
      "               NORD          SARD          SICI           SUD  \n",
      "count  93504.000000  93504.000000  93504.000000  93504.000000  \n",
      "mean   18044.110305   1094.233445   2002.804697   2739.100341  \n",
      "min     8166.990000    597.899000   1073.614000   1262.988000  \n",
      "25%    14550.757750    922.851750   1695.348000   2240.614000  \n",
      "50%    17314.696000   1057.072000   1991.530000   2708.611000  \n",
      "75%    22020.391750   1213.210000   2282.411500   3180.742250  \n",
      "max    29379.431000   3136.701000   3445.039000   5216.077000  \n",
      "std     4297.024488    242.656407    403.076054    633.755961  \n"
     ]
    }
   ],
   "source": [
    "# Comprobar si hay valores nulos en demanda_electrica_horaria_it_df\n",
    "print('VALORES NULOS:')\n",
    "print(demanda_electrica_horaria_it_df.isnull().sum())\n",
    "print('-----------------------------------------------------------------------------------')\n",
    "print(demanda_electrica_horaria_it_df.describe())"
   ]
  },
  {
   "cell_type": "code",
   "execution_count": 68,
   "metadata": {},
   "outputs": [
    {
     "name": "stdout",
     "output_type": "stream",
     "text": [
      "                 Datetime     Italia      CNOR      CSUD       NORD      SARD  \\\n",
      "0     2012-01-01 01:00:00  24659.161  2662.703  4534.718  11693.113  1460.687   \n",
      "1     2012-01-01 02:00:00  23387.590  2539.670  4240.313  11113.677  1437.934   \n",
      "2     2012-01-01 03:00:00  22090.760  2403.112  3927.174  10558.286  1410.237   \n",
      "3     2012-01-01 04:00:00  21009.116  2267.737  3692.188  10126.168  1379.016   \n",
      "4     2012-01-01 05:00:00  20350.988  2186.529  3569.043   9851.236  1340.877   \n",
      "...                   ...        ...       ...       ...        ...       ...   \n",
      "93499 2022-08-31 20:00:00  39234.945  3450.666  6835.219  21600.813  1233.899   \n",
      "93500 2022-08-31 21:00:00  39005.320  3417.592  6790.829  21280.509  1260.336   \n",
      "93501 2022-08-31 22:00:00  38956.535  3358.284  6855.084  20964.329  1305.351   \n",
      "93502 2022-08-31 23:00:00  37077.835  3172.588  6478.296  20155.819  1250.641   \n",
      "93503 2022-09-01 00:00:00  34155.930  2868.968  5940.663  18603.728  1162.996   \n",
      "\n",
      "           SICI       SUD  year      month  season time_of_day  \n",
      "0      2013.582  2294.358  2012    January  Winter       Night  \n",
      "1      1926.623  2129.373  2012    January  Winter       Night  \n",
      "2      1825.260  1966.691  2012    January  Winter       Night  \n",
      "3      1712.619  1831.388  2012    January  Winter       Night  \n",
      "4      1627.099  1776.204  2012    January  Winter       Night  \n",
      "...         ...       ...   ...        ...     ...         ...  \n",
      "93499  2649.236  2596.832  2022     August  Summer     Evening  \n",
      "93500  2671.293  2687.000  2022     August  Summer     Evening  \n",
      "93501  2771.501  2734.668  2022     August  Summer     Evening  \n",
      "93502  2606.764  2528.687  2022     August  Summer     Evening  \n",
      "93503  2440.581  2344.631  2022  September  Autumn       Night  \n",
      "\n",
      "[93504 rows x 12 columns]\n"
     ]
    }
   ],
   "source": [
    "# funciones para definir estación y momento del día\n",
    "def asignar_estacion_en_ingles(mes):\n",
    "    if mes in [12, 1, 2]:\n",
    "        return 'Winter'\n",
    "    elif mes in [3, 4, 5]:\n",
    "        return 'Spring'\n",
    "    elif mes in [6, 7, 8]:\n",
    "        return 'Summer'\n",
    "    else:\n",
    "        return 'Autumn'\n",
    "    \n",
    "def asignar_momento_dia_en_ingles(hora):\n",
    "    if hora >= 0 and hora < 6:\n",
    "        return 'Night'\n",
    "    elif hora >= 6 and hora < 12:\n",
    "        return 'Morning'\n",
    "    elif hora >= 12 and hora < 18:\n",
    "        return 'Afternoon'    \n",
    "    else:\n",
    "        return 'Evening'\n",
    "    \n",
    "# Añadir las columnas 'estaciòn', 'momento del dia', 'año' y 'mes' al dataframe.\n",
    "demanda_electrica_horaria_it_df['year'] = demanda_electrica_horaria_it_df['Datetime'].dt.year\n",
    "demanda_electrica_horaria_it_df['month'] = demanda_electrica_horaria_it_df['Datetime'].dt.month_name()\n",
    "demanda_electrica_horaria_it_df['season'] = demanda_electrica_horaria_it_df['Datetime'].dt.month.apply(asignar_estacion_en_ingles)\n",
    "demanda_electrica_horaria_it_df['time_of_day'] = demanda_electrica_horaria_it_df['Datetime'].dt.hour.apply(asignar_momento_dia_en_ingles)\n",
    "\n",
    "print(demanda_electrica_horaria_it_df)\n"
   ]
  },
  {
   "cell_type": "code",
   "execution_count": 69,
   "metadata": {},
   "outputs": [
    {
     "name": "stdout",
     "output_type": "stream",
     "text": [
      "                        Italia         CNOR          CSUD          NORD  \\\n",
      "year time_of_day                                                          \n",
      "2012 Afternoon    8.089692e+07  8715777.574  1.311165e+07  4.398976e+07   \n",
      "     Evening      7.987270e+07  8662182.291  1.363655e+07  4.112202e+07   \n",
      "     Morning      7.616938e+07  8122821.775  1.181712e+07  4.200404e+07   \n",
      "     Night        5.759578e+07  6078902.160  9.109768e+06  3.059071e+07   \n",
      "2013 Afternoon    7.874992e+07  7823442.493  1.225968e+07  4.389973e+07   \n",
      "     Evening      7.734604e+07  8102652.919  1.283570e+07  4.059038e+07   \n",
      "     Morning      7.375730e+07  7276235.247  1.094626e+07  4.162573e+07   \n",
      "     Night        5.534996e+07  5315410.365  8.294864e+06  3.031154e+07   \n",
      "2014 Afternoon    7.591198e+07  6939186.971  1.091580e+07  4.362234e+07   \n",
      "     Evening      7.616782e+07  7497878.166  1.208861e+07  4.078020e+07   \n",
      "     Morning      7.179528e+07  6556670.054  9.882450e+06  4.163845e+07   \n",
      "     Night        5.458656e+07  4875202.009  7.754974e+06  3.047168e+07   \n",
      "2015 Afternoon    7.692708e+07  7253946.029  1.174572e+07  4.423159e+07   \n",
      "     Evening      7.776481e+07  8141887.377  1.342285e+07  4.043758e+07   \n",
      "     Morning      7.272981e+07  6960572.275  1.077393e+07  4.189462e+07   \n",
      "     Night        5.520108e+07  5758134.482  9.035607e+06  2.924797e+07   \n",
      "2016 Afternoon    7.669891e+07  7741967.681  1.218013e+07  4.392435e+07   \n",
      "     Evening      7.745985e+07  8456210.765  1.340322e+07  4.059819e+07   \n",
      "     Morning      7.295772e+07  7524702.170  1.132484e+07  4.162572e+07   \n",
      "     Night        5.517552e+07  6135981.549  9.247424e+06  2.912402e+07   \n",
      "2017 Afternoon    7.791115e+07  8452087.515  1.261051e+07  4.425052e+07   \n",
      "     Evening      7.873285e+07  8683308.897  1.337286e+07  4.224556e+07   \n",
      "     Morning      7.376154e+07  8049867.934  1.156787e+07  4.208574e+07   \n",
      "     Night        5.563635e+07  6063333.707  9.018938e+06  3.057043e+07   \n",
      "2018 Afternoon    7.962447e+07  8600099.612  1.263250e+07  4.536010e+07   \n",
      "     Evening      7.975174e+07  8529663.049  1.308898e+07  4.354700e+07   \n",
      "     Morning      7.531758e+07  8021292.005  1.142063e+07  4.345995e+07   \n",
      "     Night        5.706677e+07  5930510.843  8.798936e+06  3.208250e+07   \n",
      "2019 Afternoon    7.901349e+07  8554570.808  1.261040e+07  4.475646e+07   \n",
      "     Evening      7.900151e+07  8493271.099  1.302283e+07  4.293548e+07   \n",
      "     Morning      7.478808e+07  8001410.161  1.140603e+07  4.295856e+07   \n",
      "     Night        5.617385e+07  5902746.614  8.701240e+06  3.136868e+07   \n",
      "2020 Afternoon    7.392618e+07  7931250.482  1.199997e+07  4.144126e+07   \n",
      "     Evening      7.443971e+07  7995647.454  1.251639e+07  4.010323e+07   \n",
      "     Morning      6.985426e+07  7419639.409  1.085594e+07  3.971005e+07   \n",
      "     Night        5.328918e+07  5561793.492  8.470594e+06  2.945351e+07   \n",
      "2021 Afternoon    7.842182e+07  6876364.491  1.393224e+07  4.439347e+07   \n",
      "     Evening      7.757084e+07  6686823.697  1.424955e+07  4.234443e+07   \n",
      "     Morning      7.424377e+07  6430893.980  1.265778e+07  4.278163e+07   \n",
      "     Night        5.585168e+07  4577007.736  9.777198e+06  3.141656e+07   \n",
      "2022 Afternoon    5.287175e+07  4705952.809  9.415153e+06  2.973245e+07   \n",
      "     Evening      5.313697e+07  4632810.544  9.710637e+06  2.898839e+07   \n",
      "     Morning      4.788323e+07  4156602.518  8.122572e+06  2.747502e+07   \n",
      "     Night        3.936379e+07  3240093.821  6.895390e+06  2.200488e+07   \n",
      "\n",
      "                         SARD         SICI          SUD  \n",
      "year time_of_day                                         \n",
      "2012 Afternoon    3230174.662  5307444.505  6542117.648  \n",
      "     Evening      3484311.911  5691980.205  7275662.160  \n",
      "     Morning      3167978.184  4908230.395  6149188.838  \n",
      "     Night        2748615.074  4003672.620  5064114.388  \n",
      "2013 Afternoon    2791719.672  5124286.143  6851071.878  \n",
      "     Evening      3033487.511  5505594.578  7278226.094  \n",
      "     Morning      2774108.974  4721553.277  6413424.399  \n",
      "     Night        2295710.507  3973063.797  5159368.116  \n",
      "2014 Afternoon    2873173.329  4736914.299  6824567.912  \n",
      "     Evening      3169905.521  5139945.911  7491276.218  \n",
      "     Morning      2902831.135  4405045.235  6409825.424  \n",
      "     Night        2470396.734  3767541.298  5246765.219  \n",
      "2015 Afternoon    2172658.643  4004138.618  7519022.818  \n",
      "     Evening      2563998.011  4684210.230  8514285.037  \n",
      "     Morning      2198287.357  3794419.359  7107974.561  \n",
      "     Night        1933397.019  3130901.159  6095076.396  \n",
      "2016 Afternoon    2124108.780  4245660.122  6482692.155  \n",
      "     Evening      2508054.697  4886548.075  7607628.407  \n",
      "     Morning      2182204.936  4048975.514  6251281.184  \n",
      "     Night        1934037.669  3358967.659  5375095.354  \n",
      "2017 Afternoon    2213613.891  4461237.658  5923182.900  \n",
      "     Evening      2508402.920  5011064.456  6911646.346  \n",
      "     Morning      2228717.891  4179326.956  5650025.496  \n",
      "     Night        1862524.611  3433039.658  4688084.474  \n",
      "2018 Afternoon    2286132.330  4619985.132  6125647.774  \n",
      "     Evening      2524788.236  5149505.581  6911807.110  \n",
      "     Morning      2273556.307  4337207.261  5804947.556  \n",
      "     Night        1889841.823  3573748.355  4791226.841  \n",
      "2019 Afternoon    2257402.217  4569460.110  6265194.868  \n",
      "     Evening      2513679.389  5035651.016  7000594.245  \n",
      "     Morning      2252717.037  4251848.820  5917513.172  \n",
      "     Night        1884465.087  3482335.697  4834380.639  \n",
      "2020 Afternoon    2143706.835  4378733.317  6031256.792  \n",
      "     Evening      2364693.344  4827679.047  6632065.856  \n",
      "     Morning      2117435.392  4057442.908  5693747.487  \n",
      "     Night        1779744.935  3365325.600  4658219.457  \n",
      "2021 Afternoon    2276959.105  4577727.620  4785730.869  \n",
      "     Evening      2487048.213  4916675.240  5135139.174  \n",
      "     Morning      2238762.568  4203844.557  4485167.714  \n",
      "     Night        1855201.285  3423463.856  3686745.104  \n",
      "2022 Afternoon    1496733.489  3188107.724  3298850.779  \n",
      "     Evening      1627568.014  3459120.811  3567154.697  \n",
      "     Morning      1420302.721  2812309.851  2996396.218  \n",
      "     Night        1252046.084  2516316.199  2663448.492  \n"
     ]
    }
   ],
   "source": [
    "# Crear una lista de las columnas para las que queremos analizar la demanda\n",
    "columnas_demandas = ['Italia', 'CNOR', 'CSUD', 'NORD', 'SARD', 'SICI', 'SUD']\n",
    "\n",
    "# Agrupar por 'year', 'time_of_day' y 'zona' (las columnas de demanda) y calcular la demanda total\n",
    "demanda_agrupada = demanda_electrica_horaria_it_df.groupby(['year', 'time_of_day'])[columnas_demandas].sum()\n",
    "\n",
    "# Mostrar el resultado\n",
    "print(demanda_agrupada)"
   ]
  },
  {
   "cell_type": "code",
   "execution_count": 64,
   "metadata": {},
   "outputs": [
    {
     "name": "stdout",
     "output_type": "stream",
     "text": [
      "    year        Italia          CNOR          CSUD          NORD  \\\n",
      "0   2012  2.945348e+08  3.157968e+07  4.767508e+07  1.577065e+08   \n",
      "1   2013  2.852032e+08  2.851774e+07  4.433649e+07  1.564274e+08   \n",
      "2   2014  2.784616e+08  2.586894e+07  4.064183e+07  1.565127e+08   \n",
      "3   2015  2.826228e+08  2.811454e+07  4.497811e+07  1.558118e+08   \n",
      "4   2016  2.822920e+08  2.985886e+07  4.615561e+07  1.552723e+08   \n",
      "5   2017  2.860419e+08  3.124860e+07  4.657017e+07  1.591522e+08   \n",
      "6   2018  2.917606e+08  3.108157e+07  4.594104e+07  1.644496e+08   \n",
      "7   2019  2.889769e+08  3.095200e+07  4.574050e+07  1.620192e+08   \n",
      "8   2020  2.715093e+08  2.890833e+07  4.384289e+07  1.507080e+08   \n",
      "9   2021  2.860881e+08  2.457109e+07  5.061676e+07  1.609361e+08   \n",
      "10  2022  1.932558e+08  1.673546e+07  3.414375e+07  1.082007e+08   \n",
      "\n",
      "            SARD          SICI           SUD  \n",
      "0   1.263108e+07  1.991133e+07  2.503108e+07  \n",
      "1   1.089503e+07  1.932450e+07  2.570209e+07  \n",
      "2   1.141631e+07  1.804945e+07  2.597243e+07  \n",
      "3   8.868341e+06  1.561367e+07  2.923636e+07  \n",
      "4   8.748406e+06  1.654015e+07  2.571670e+07  \n",
      "5   8.813259e+06  1.708467e+07  2.317294e+07  \n",
      "6   8.974319e+06  1.768045e+07  2.363363e+07  \n",
      "7   8.908264e+06  1.733930e+07  2.401768e+07  \n",
      "8   8.405581e+06  1.662918e+07  2.301529e+07  \n",
      "9   8.857971e+06  1.712171e+07  1.809278e+07  \n",
      "10  5.796650e+06  1.197585e+07  1.252585e+07  \n"
     ]
    }
   ],
   "source": [
    "demand_por_zona_por_anio = demanda_electrica_horaria_it_df.groupby(['year']).agg({\n",
    "    'Italia': 'sum',  # Sumar la columna 'Italia'\n",
    "    'CNOR': 'sum',    # Sumar la columna 'CNOR'\n",
    "    'CSUD': 'sum',    # Sumar la columna 'CSUD'\n",
    "    'NORD': 'sum',    # Sumar la columna 'NORD'\n",
    "    'SARD': 'sum',    # Sumar la columna 'SARD'\n",
    "    'SICI': 'sum',    # Sumar la columna 'SICI'\n",
    "    'SUD': 'sum'\n",
    "}).reset_index()\n",
    "\n",
    "print(demand_por_zona_por_anio)"
   ]
  },
  {
   "cell_type": "markdown",
   "metadata": {},
   "source": [
    "# secondo dataset"
   ]
  },
  {
   "cell_type": "code",
   "execution_count": null,
   "metadata": {},
   "outputs": [],
   "source": [
    "# print('------------------------------------------------------------------------------------------------------------------------------')\n",
    "# print('Info dataset precios horarios electricidad en Italia:')\n",
    "# print(prices_electricidad_ph_df.info())\n",
    "# print('------------------------------------------------------------------------------------------------------------------------------')\n",
    "# print('Info dataset producción energia electrica en Italia por fuente de energia:')\n",
    "# print(prod_electricidad__df.info())\n",
    "# print('------------------------------------------------------------------------------------------------------------------------------')\n",
    "# print('Info dataset precios futuros del gas natural en Europa:')\n",
    "# print(gas_precios_futuros_df.info())"
   ]
  }
 ],
 "metadata": {
  "kernelspec": {
   "display_name": "Dataenv",
   "language": "python",
   "name": "python3"
  },
  "language_info": {
   "codemirror_mode": {
    "name": "ipython",
    "version": 3
   },
   "file_extension": ".py",
   "mimetype": "text/x-python",
   "name": "python",
   "nbconvert_exporter": "python",
   "pygments_lexer": "ipython3",
   "version": "3.13.0"
  }
 },
 "nbformat": 4,
 "nbformat_minor": 2
}
