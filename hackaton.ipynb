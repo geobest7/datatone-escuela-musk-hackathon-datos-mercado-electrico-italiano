{
 "cells": [
  {
   "cell_type": "markdown",
   "metadata": {},
   "source": [
    "# Análisis del Mercado Eléctrico Italiano\n",
    "\n",
    "## Contexto\n",
    "Este análisis se basa en un conjunto de datos sobre el mercado eléctrico italiano, disponible en Kaggle. El dataset cubre el periodo de 2012 a 2022 y proporciona información sobre la demanda de electricidad, las fuentes de producción de energía y los precios de la electricidad en Italia. Durante este periodo, Italia ha enfrentado una transición energética debido a cambios en la oferta y la demanda de energía, impulsados por factores como las interrupciones en el suministro de gas, la mayor inversión en energías renovables y las tensiones geopolíticas. Estos cambios son cruciales para comprender las variaciones en la demanda de electricidad.\n",
    "\n",
    "El objetivo de este análisis es explorar y entender cómo ha evolucionado la demanda eléctrica a lo largo de los años, comparando las distintas regiones del país y realizando predicciones sobre la futura demanda. Este análisis es clave para la optimización de la producción y distribución de energía.\n",
    "\n",
    "## Archivos del Dataset\n",
    "El conjunto de datos está compuesto por varios archivos CSV que contienen información específica sobre la producción, la demanda y los precios de la electricidad en Italia. A continuación se describen los archivos y sus características:\n",
    "\n",
    "1. **`it_electricity_demand_adj.csv`** (7.94 MB)\n",
    "   - **Descripción**: Contiene datos ajustados sobre la demanda eléctrica horaria en Italia durante el período cubierto (2012-2022).\n",
    "   - **Características**: Detalla el consumo de electricidad por hora en diferentes regiones de Italia (por ejemplo, Norte, Sur, Centro-Norte, etc.).\n",
    "\n",
    "2. **`it_electricity_prices_adj.csv`** (11.97 MB)\n",
    "   - **Descripción**: Contiene información sobre los precios horarios de la electricidad en Italia, ajustados para reflejar las tendencias económicas.\n",
    "   - **Características**: Información sobre el precio de la electricidad por megavatio hora (€/MWh), lo que permite observar las fluctuaciones de los precios a lo largo del tiempo.\n",
    "\n",
    "3. **`electricity-prod-source-stacked.csv`** (377.27 KB)\n",
    "   - **Descripción**: Proporciona información sobre la producción de electricidad en Italia, desglosada por fuente de energía (renovables, fósiles, etc.).\n",
    "   - **Características**: Contiene la proporción de electricidad generada por cada tipo de fuente de energía, lo que es esencial para comprender cómo varía la oferta de electricidad según las fuentes de energía.\n",
    "\n",
    "4. **`NYMEX_DL_TTF1_1D.csv`** (73.38 KB)\n",
    "   - **Descripción**: Contiene datos sobre los futuros continuos del gas natural holandés (Dutch Natural Gas Continuous Future), que es relevante para entender los precios de la energía en Europa.\n",
    "   - **Características**: Datos de precios futuros del gas natural, lo cual puede influir en el precio de la electricidad.\n",
    "   "
   ]
  },
  {
   "cell_type": "code",
   "execution_count": 96,
   "metadata": {},
   "outputs": [],
   "source": [
    "import pandas as pd\n",
    "import numpy as np\n",
    "import matplotlib.pyplot as plt\n",
    "import seaborn as sns\n",
    "\n",
    "\n",
    "# Cargar los datos\n",
    "demanda_electrica_horaria_it_df = pd.read_csv('it_electricity_demand_adj.csv', index_col=None)\n",
    "prices_electricidad_ph_df = pd.read_csv('it_electricity_prices_adj.csv', index_col=None)\n",
    "prod_electricidad__df = pd.read_csv('electricity-prod-source-stacked.csv', index_col=None)\n",
    "gas_precios_futuros_df = pd.read_csv('NYMEX_DL_TTF1 1D.csv')\n",
    "\n",
    "\n"
   ]
  },
  {
   "cell_type": "markdown",
   "metadata": {},
   "source": [
    "### LIMPIAR Y ANALIZAR EL PRIMER DATASET"
   ]
  },
  {
   "cell_type": "code",
   "execution_count": 97,
   "metadata": {},
   "outputs": [
    {
     "name": "stdout",
     "output_type": "stream",
     "text": [
      "Info dataset demanda electrica horaria en Italia desde 2012 a 2022:\n",
      "<class 'pandas.core.frame.DataFrame'>\n",
      "RangeIndex: 93504 entries, 0 to 93503\n",
      "Data columns (total 8 columns):\n",
      " #   Column      Non-Null Count  Dtype  \n",
      "---  ------      --------------  -----  \n",
      " 0   Unnamed: 0  93504 non-null  object \n",
      " 1   Italia      93504 non-null  float64\n",
      " 2   CNOR        93504 non-null  float64\n",
      " 3   CSUD        93504 non-null  float64\n",
      " 4   NORD        93504 non-null  float64\n",
      " 5   SARD        93504 non-null  float64\n",
      " 6   SICI        93504 non-null  float64\n",
      " 7   SUD         93504 non-null  float64\n",
      "dtypes: float64(7), object(1)\n",
      "memory usage: 5.7+ MB\n",
      "None\n"
     ]
    }
   ],
   "source": [
    "print('Info dataset demanda electrica horaria en Italia desde 2012 a 2022:')\n",
    "print(demanda_electrica_horaria_it_df.info())"
   ]
  },
  {
   "cell_type": "code",
   "execution_count": 98,
   "metadata": {},
   "outputs": [
    {
     "name": "stdout",
     "output_type": "stream",
     "text": [
      "<class 'pandas.core.frame.DataFrame'>\n",
      "RangeIndex: 93504 entries, 0 to 93503\n",
      "Data columns (total 8 columns):\n",
      " #   Column  Non-Null Count  Dtype         \n",
      "---  ------  --------------  -----         \n",
      " 0   DATE    93504 non-null  datetime64[ns]\n",
      " 1   ITALIA  93504 non-null  float64       \n",
      " 2   CNOR    93504 non-null  float64       \n",
      " 3   CSUD    93504 non-null  float64       \n",
      " 4   NORD    93504 non-null  float64       \n",
      " 5   SARD    93504 non-null  float64       \n",
      " 6   SICI    93504 non-null  float64       \n",
      " 7   SUD     93504 non-null  float64       \n",
      "dtypes: datetime64[ns](1), float64(7)\n",
      "memory usage: 5.7 MB\n",
      "None\n",
      "--------------------------------------------------------------------------------------------------------------------------\n",
      "                 DATE     ITALIA      CNOR      CSUD       NORD      SARD  \\\n",
      "0 2012-01-01 01:00:00  24659.161  2662.703  4534.718  11693.113  1460.687   \n",
      "1 2012-01-01 02:00:00  23387.590  2539.670  4240.313  11113.677  1437.934   \n",
      "2 2012-01-01 03:00:00  22090.760  2403.112  3927.174  10558.286  1410.237   \n",
      "3 2012-01-01 04:00:00  21009.116  2267.737  3692.188  10126.168  1379.016   \n",
      "4 2012-01-01 05:00:00  20350.988  2186.529  3569.043   9851.236  1340.877   \n",
      "\n",
      "       SICI       SUD  \n",
      "0  2013.582  2294.358  \n",
      "1  1926.623  2129.373  \n",
      "2  1825.260  1966.691  \n",
      "3  1712.619  1831.388  \n",
      "4  1627.099  1776.204  \n"
     ]
    }
   ],
   "source": [
    "# Convertir la columna 'Unnamed: 0' a formato de fecha y hora\n",
    "demanda_electrica_horaria_it_df['Unnamed: 0'] = pd.to_datetime(demanda_electrica_horaria_it_df['Unnamed: 0'])\n",
    "\n",
    "# renombrar la columna \"Unnamed\" a \"datetime\"\n",
    "demanda_electrica_horaria_it_df = demanda_electrica_horaria_it_df.rename(columns={'Unnamed: 0': 'DATE', 'Italia': 'ITALIA'})\n",
    "\n",
    "# Verificar la conversión y la estructura de los datos\n",
    "print(demanda_electrica_horaria_it_df.info())\n",
    "print('--------------------------------------------------------------------------------------------------------------------------')\n",
    "print(demanda_electrica_horaria_it_df.head())\n",
    "\n",
    "\n"
   ]
  },
  {
   "cell_type": "code",
   "execution_count": 99,
   "metadata": {},
   "outputs": [
    {
     "name": "stdout",
     "output_type": "stream",
     "text": [
      "VALORES NULOS:\n",
      "DATE      0\n",
      "ITALIA    0\n",
      "CNOR      0\n",
      "CSUD      0\n",
      "NORD      0\n",
      "SARD      0\n",
      "SICI      0\n",
      "SUD       0\n",
      "dtype: int64\n",
      "-----------------------------------------------------------------------------------\n",
      "                      DATE        ITALIA          CNOR          CSUD  \\\n",
      "count                93504  93504.000000  93504.000000  93504.000000   \n",
      "mean   2017-05-02 00:30:00  32519.967098   3287.953532   5247.286205   \n",
      "min    2012-01-01 01:00:00  16272.977000   1550.070000   2580.443000   \n",
      "25%    2014-09-01 00:45:00  26502.196750   2643.802000   4318.080750   \n",
      "50%    2017-05-02 00:30:00  32016.382500   3224.852000   5258.185500   \n",
      "75%    2020-01-01 00:15:00  38450.967750   3913.896750   6099.085000   \n",
      "max    2022-09-01 00:00:00  50393.780000   6007.450000   8899.763000   \n",
      "std                    NaN   6818.933965    791.864286   1128.337246   \n",
      "\n",
      "               NORD          SARD          SICI           SUD  \n",
      "count  93504.000000  93504.000000  93504.000000  93504.000000  \n",
      "mean   18044.110305   1094.233445   2002.804697   2739.100341  \n",
      "min     8166.990000    597.899000   1073.614000   1262.988000  \n",
      "25%    14550.757750    922.851750   1695.348000   2240.614000  \n",
      "50%    17314.696000   1057.072000   1991.530000   2708.611000  \n",
      "75%    22020.391750   1213.210000   2282.411500   3180.742250  \n",
      "max    29379.431000   3136.701000   3445.039000   5216.077000  \n",
      "std     4297.024488    242.656407    403.076054    633.755961  \n"
     ]
    }
   ],
   "source": [
    "# Comprobar si hay valores nulos en demanda_electrica_horaria_it_df\n",
    "print('VALORES NULOS:')\n",
    "print(demanda_electrica_horaria_it_df.isnull().sum())\n",
    "print('-----------------------------------------------------------------------------------')\n",
    "print(demanda_electrica_horaria_it_df.describe())"
   ]
  },
  {
   "cell_type": "code",
   "execution_count": 100,
   "metadata": {},
   "outputs": [
    {
     "name": "stdout",
     "output_type": "stream",
     "text": [
      "                     DATE     ITALIA      CNOR      CSUD       NORD      SARD  \\\n",
      "0     2012-01-01 01:00:00  24659.161  2662.703  4534.718  11693.113  1460.687   \n",
      "1     2012-01-01 02:00:00  23387.590  2539.670  4240.313  11113.677  1437.934   \n",
      "2     2012-01-01 03:00:00  22090.760  2403.112  3927.174  10558.286  1410.237   \n",
      "3     2012-01-01 04:00:00  21009.116  2267.737  3692.188  10126.168  1379.016   \n",
      "4     2012-01-01 05:00:00  20350.988  2186.529  3569.043   9851.236  1340.877   \n",
      "...                   ...        ...       ...       ...        ...       ...   \n",
      "93499 2022-08-31 20:00:00  39234.945  3450.666  6835.219  21600.813  1233.899   \n",
      "93500 2022-08-31 21:00:00  39005.320  3417.592  6790.829  21280.509  1260.336   \n",
      "93501 2022-08-31 22:00:00  38956.535  3358.284  6855.084  20964.329  1305.351   \n",
      "93502 2022-08-31 23:00:00  37077.835  3172.588  6478.296  20155.819  1250.641   \n",
      "93503 2022-09-01 00:00:00  34155.930  2868.968  5940.663  18603.728  1162.996   \n",
      "\n",
      "           SICI       SUD  YEAR      MONTH  SEASON TIME_OF_DAY  \n",
      "0      2013.582  2294.358  2012    January  Winter       Night  \n",
      "1      1926.623  2129.373  2012    January  Winter       Night  \n",
      "2      1825.260  1966.691  2012    January  Winter       Night  \n",
      "3      1712.619  1831.388  2012    January  Winter       Night  \n",
      "4      1627.099  1776.204  2012    January  Winter       Night  \n",
      "...         ...       ...   ...        ...     ...         ...  \n",
      "93499  2649.236  2596.832  2022     August  Summer     Evening  \n",
      "93500  2671.293  2687.000  2022     August  Summer     Evening  \n",
      "93501  2771.501  2734.668  2022     August  Summer     Evening  \n",
      "93502  2606.764  2528.687  2022     August  Summer     Evening  \n",
      "93503  2440.581  2344.631  2022  September  Autumn       Night  \n",
      "\n",
      "[93504 rows x 12 columns]\n"
     ]
    }
   ],
   "source": [
    "# funciones para definir estación y momento del día\n",
    "def asignar_estacion_en_ingles(mes):\n",
    "    if mes in [12, 1, 2]:\n",
    "        return 'Winter'\n",
    "    elif mes in [3, 4, 5]:\n",
    "        return 'Spring'\n",
    "    elif mes in [6, 7, 8]:\n",
    "        return 'Summer'\n",
    "    else:\n",
    "        return 'Autumn'\n",
    "    \n",
    "def asignar_momento_dia_en_ingles(hora):\n",
    "    if hora >= 0 and hora < 6:\n",
    "        return 'Night'\n",
    "    elif hora >= 6 and hora < 12:\n",
    "        return 'Morning'\n",
    "    elif hora >= 12 and hora < 18:\n",
    "        return 'Afternoon'    \n",
    "    else:\n",
    "        return 'Evening'\n",
    "    \n",
    "# Añadir las columnas 'estaciòn', 'momento del dia', 'año' y 'mes' al dataframe.\n",
    "demanda_electrica_horaria_it_df['YEAR'] = demanda_electrica_horaria_it_df['DATE'].dt.year\n",
    "demanda_electrica_horaria_it_df['MONTH'] = demanda_electrica_horaria_it_df['DATE'].dt.month_name()\n",
    "demanda_electrica_horaria_it_df['SEASON'] = demanda_electrica_horaria_it_df['DATE'].dt.month.apply(asignar_estacion_en_ingles)\n",
    "demanda_electrica_horaria_it_df['TIME_OF_DAY'] = demanda_electrica_horaria_it_df['DATE'].dt.hour.apply(asignar_momento_dia_en_ingles)\n",
    "\n",
    "print(demanda_electrica_horaria_it_df)\n"
   ]
  },
  {
   "cell_type": "code",
   "execution_count": 101,
   "metadata": {},
   "outputs": [
    {
     "name": "stdout",
     "output_type": "stream",
     "text": [
      "                     DATE     ITALIA      CNOR      CSUD       NORD      SARD  \\\n",
      "87666 2021-12-31 19:00:00  33594.570  3056.068  6486.964  17214.477  1158.396   \n",
      "87667 2021-12-31 20:00:00  33059.312  3009.514  6497.047  16777.262  1160.444   \n",
      "87668 2021-12-31 21:00:00  30955.712  2766.744  6079.317  15630.957  1131.324   \n",
      "87669 2021-12-31 22:00:00  28636.193  2542.831  5616.364  14531.612  1056.545   \n",
      "87670 2021-12-31 23:00:00  26498.170  2319.290  5246.229  13428.359   989.251   \n",
      "\n",
      "           SICI       SUD  YEAR     MONTH  SEASON TIME_OF_DAY  \n",
      "87666  2462.186  2328.333  2021  December  Winter     Evening  \n",
      "87667  2450.344  2281.282  2021  December  Winter     Evening  \n",
      "87668  2314.756  2212.135  2021  December  Winter     Evening  \n",
      "87669  2131.281  2013.634  2021  December  Winter     Evening  \n",
      "87670  1977.628  1851.318  2021  December  Winter     Evening  \n"
     ]
    }
   ],
   "source": [
    "# Eliminar las filas correspondientes al año 2022 que no esta completo, los datos llegan hasta el 1 de Septiembre 2022\n",
    "demanda_electrica_horaria_it_df_sin_2022 = demanda_electrica_horaria_it_df[demanda_electrica_horaria_it_df['YEAR'] < 2022]\n",
    "\n",
    "# Verificar que las filas de 2022 han sido eliminadas\n",
    "print(demanda_electrica_horaria_it_df_sin_2022.tail())"
   ]
  },
  {
   "cell_type": "code",
   "execution_count": 102,
   "metadata": {},
   "outputs": [
    {
     "name": "stdout",
     "output_type": "stream",
     "text": [
      "   YEAR        ITALIA          CNOR          CSUD          NORD          SARD  \\\n",
      "0  2012  2.945348e+08  3.157968e+07  4.767508e+07  1.577065e+08  1.263108e+07   \n",
      "1  2013  2.852032e+08  2.851774e+07  4.433649e+07  1.564274e+08  1.089503e+07   \n",
      "2  2014  2.784616e+08  2.586894e+07  4.064183e+07  1.565127e+08  1.141631e+07   \n",
      "3  2015  2.826228e+08  2.811454e+07  4.497811e+07  1.558118e+08  8.868341e+06   \n",
      "4  2016  2.822920e+08  2.985886e+07  4.615561e+07  1.552723e+08  8.748406e+06   \n",
      "5  2017  2.860419e+08  3.124860e+07  4.657017e+07  1.591522e+08  8.813259e+06   \n",
      "6  2018  2.917606e+08  3.108157e+07  4.594104e+07  1.644496e+08  8.974319e+06   \n",
      "7  2019  2.889769e+08  3.095200e+07  4.574050e+07  1.620192e+08  8.908264e+06   \n",
      "8  2020  2.715093e+08  2.890833e+07  4.384289e+07  1.507080e+08  8.405581e+06   \n",
      "9  2021  2.860881e+08  2.457109e+07  5.061676e+07  1.609361e+08  8.857971e+06   \n",
      "\n",
      "           SICI           SUD  \n",
      "0  1.991133e+07  2.503108e+07  \n",
      "1  1.932450e+07  2.570209e+07  \n",
      "2  1.804945e+07  2.597243e+07  \n",
      "3  1.561367e+07  2.923636e+07  \n",
      "4  1.654015e+07  2.571670e+07  \n",
      "5  1.708467e+07  2.317294e+07  \n",
      "6  1.768045e+07  2.363363e+07  \n",
      "7  1.733930e+07  2.401768e+07  \n",
      "8  1.662918e+07  2.301529e+07  \n",
      "9  1.712171e+07  1.809278e+07  \n"
     ]
    }
   ],
   "source": [
    "# AGRUPAR POR AÑO Y VER LA DEMANDA TOTAL DE CDA ZONA POR CADA AÑO\n",
    "demand_por_zona_por_anio = demanda_electrica_horaria_it_df_sin_2022.groupby(['YEAR']).agg({\n",
    "    'ITALIA': 'sum',  # Sumar la columna 'Italia'\n",
    "    'CNOR': 'sum',    # Sumar la columna 'CNOR'\n",
    "    'CSUD': 'sum',    # Sumar la columna 'CSUD'\n",
    "    'NORD': 'sum',    # Sumar la columna 'NORD'\n",
    "    'SARD': 'sum',    # Sumar la columna 'SARD'\n",
    "    'SICI': 'sum',    # Sumar la columna 'SICI'\n",
    "    'SUD': 'sum'\n",
    "}).reset_index()\n",
    "\n",
    "print(demand_por_zona_por_anio)"
   ]
  },
  {
   "cell_type": "markdown",
   "metadata": {},
   "source": [
    "### LIMPIAR Y ANALIZAR EL SEGUNDO DATASET"
   ]
  },
  {
   "cell_type": "code",
   "execution_count": 103,
   "metadata": {},
   "outputs": [
    {
     "name": "stdout",
     "output_type": "stream",
     "text": [
      "Info dataset precios horarios electricidad en Italia:\n",
      "<class 'pandas.core.frame.DataFrame'>\n",
      "RangeIndex: 93504 entries, 0 to 93503\n",
      "Data columns (total 24 columns):\n",
      " #   Column      Non-Null Count  Dtype  \n",
      "---  ------      --------------  -----  \n",
      " 0   Unnamed: 0  93504 non-null  object \n",
      " 1   PUN         93504 non-null  float64\n",
      " 2   NAT         93504 non-null  float64\n",
      " 3   CNOR        93504 non-null  float64\n",
      " 4   CSUD        93504 non-null  float64\n",
      " 5   NORD        93504 non-null  float64\n",
      " 6   SARD        93504 non-null  float64\n",
      " 7   SICI        93504 non-null  float64\n",
      " 8   SUD         93504 non-null  float64\n",
      " 9   AUST        93504 non-null  float64\n",
      " 10  COAC        93504 non-null  float64\n",
      " 11  CORS        93504 non-null  float64\n",
      " 12  FRAN        93504 non-null  float64\n",
      " 13  GREC        93504 non-null  float64\n",
      " 14  SLOV        93504 non-null  float64\n",
      " 15  SVIZ        93504 non-null  float64\n",
      " 16  BSP         93504 non-null  float64\n",
      " 17  CALA        744 non-null    float64\n",
      " 18  COUP        744 non-null    float64\n",
      " 19  MALT        744 non-null    float64\n",
      " 20  XAUS        744 non-null    float64\n",
      " 21  XFRA        744 non-null    float64\n",
      " 22  MONT        744 non-null    float64\n",
      " 23  XGRE        744 non-null    float64\n",
      "dtypes: float64(23), object(1)\n",
      "memory usage: 17.1+ MB\n",
      "None\n"
     ]
    }
   ],
   "source": [
    "\n",
    "print('Info dataset precios horarios electricidad en Italia:')\n",
    "print(prices_electricidad_ph_df.info())\n"
   ]
  },
  {
   "cell_type": "code",
   "execution_count": 104,
   "metadata": {},
   "outputs": [
    {
     "name": "stdout",
     "output_type": "stream",
     "text": [
      "<class 'pandas.core.frame.DataFrame'>\n",
      "RangeIndex: 93504 entries, 0 to 93503\n",
      "Data columns (total 9 columns):\n",
      " #   Column                 Non-Null Count  Dtype         \n",
      "---  ------                 --------------  -----         \n",
      " 0   DATE                   93504 non-null  datetime64[ns]\n",
      " 1   UNIQUE_NATIONAL_PRICE  93504 non-null  float64       \n",
      " 2   UNCONSTRAINED_PRICE    93504 non-null  float64       \n",
      " 3   NORD_CENTER_PRICE      93504 non-null  float64       \n",
      " 4   SUD_CENTER_PRICE       93504 non-null  float64       \n",
      " 5   NORD_PRICE             93504 non-null  float64       \n",
      " 6   SARDINA_PRICE          93504 non-null  float64       \n",
      " 7   SICILY_PRICE           93504 non-null  float64       \n",
      " 8   SUD_PRICE              93504 non-null  float64       \n",
      "dtypes: datetime64[ns](1), float64(8)\n",
      "memory usage: 6.4 MB\n",
      "None\n"
     ]
    }
   ],
   "source": [
    "# VAMOS A EXTRAER SOLO LAS COLUMNAS QUE NOS INTERESAN Y LAS VAMOS A RENOMBRAR\n",
    "\n",
    "columnas_a_analizar = ['Unnamed: 0', 'PUN', 'NAT', 'CNOR', 'CSUD', 'NORD', 'SARD', 'SICI', 'SUD']\n",
    "nuevos_nombres = {\n",
    "    'Unnamed: 0': 'DATE',\n",
    "    'PUN': 'UNIQUE_NATIONAL_PRICE',\n",
    "    'NAT': 'UNCONSTRAINED_PRICE',\n",
    "    'CNOR': 'NORD_CENTER_PRICE',\n",
    "    'CSUD': 'SUD_CENTER_PRICE',\n",
    "    'NORD': 'NORD_PRICE',\n",
    "    'SARD': 'SARDINA_PRICE',\n",
    "    'SICI': 'SICILY_PRICE',\n",
    "    'SUD': 'SUD_PRICE'\n",
    "}\n",
    "\n",
    "# actualizar el dataframe con las columnas seleccionadas\n",
    "prices_electricidad_ph_df = prices_electricidad_ph_df[columnas_a_analizar].rename(columns=nuevos_nombres)\n",
    "\n",
    "# Convertir la columna DATE a formato datetime\n",
    "prices_electricidad_ph_df['DATE'] = pd.to_datetime(prices_electricidad_ph_df['DATE'])\n",
    "\n",
    "print(prices_electricidad_ph_df.info())"
   ]
  },
  {
   "cell_type": "code",
   "execution_count": 105,
   "metadata": {},
   "outputs": [
    {
     "name": "stdout",
     "output_type": "stream",
     "text": [
      "VALORES NULOS:\n",
      "DATE                     0\n",
      "UNIQUE_NATIONAL_PRICE    0\n",
      "UNCONSTRAINED_PRICE      0\n",
      "NORD_CENTER_PRICE        0\n",
      "SUD_CENTER_PRICE         0\n",
      "NORD_PRICE               0\n",
      "SARDINA_PRICE            0\n",
      "SICILY_PRICE             0\n",
      "SUD_PRICE                0\n",
      "dtype: int64\n",
      "-----------------------------------------------------------------------------------\n",
      "                      DATE  UNIQUE_NATIONAL_PRICE  UNCONSTRAINED_PRICE  \\\n",
      "count                93504           93504.000000         93504.000000   \n",
      "mean   2017-05-02 00:30:00              77.307662            76.245255   \n",
      "min    2012-01-01 01:00:00               0.000000             0.000000   \n",
      "25%    2014-09-01 00:45:00              43.785658            43.000000   \n",
      "50%    2017-05-02 00:30:00              56.000000            55.000000   \n",
      "75%    2020-01-01 00:15:00              73.214997            71.430000   \n",
      "max    2022-09-01 00:00:00             870.000000          3000.000000   \n",
      "std                    NaN              78.206100            78.547685   \n",
      "\n",
      "       NORD_CENTER_PRICE  SUD_CENTER_PRICE    NORD_PRICE  SARDINA_PRICE  \\\n",
      "count       93504.000000      93504.000000  93504.000000   93504.000000   \n",
      "mean           76.783323         75.681712     76.870778      76.206601   \n",
      "min             0.000000          0.000000      0.000000       0.000000   \n",
      "25%            42.930000         42.530000     42.990000      42.520000   \n",
      "50%            55.180000         54.710000     55.500000      54.990000   \n",
      "75%            72.060000         71.400000     72.100000      72.000000   \n",
      "max           871.000000        870.000000    871.000000     871.000000   \n",
      "std            79.643482         77.292907     79.591498      76.570900   \n",
      "\n",
      "       SICILY_PRICE     SUD_PRICE  \n",
      "count  93504.000000  93504.000000  \n",
      "mean      88.611393     73.988291  \n",
      "min        0.000000      0.000000  \n",
      "25%       49.170000     41.440000  \n",
      "50%       64.620000     53.152566  \n",
      "75%       98.010000     70.000000  \n",
      "max     3000.000000    870.000000  \n",
      "std       78.269765     76.658939  \n"
     ]
    }
   ],
   "source": [
    "# Comprobar si hay valores nulos en prices_electricidad_ph_df\n",
    "print('VALORES NULOS:')\n",
    "print(prices_electricidad_ph_df.isnull().sum())\n",
    "print('-----------------------------------------------------------------------------------')\n",
    "print(prices_electricidad_ph_df.describe())"
   ]
  },
  {
   "cell_type": "code",
   "execution_count": 106,
   "metadata": {},
   "outputs": [
    {
     "name": "stdout",
     "output_type": "stream",
     "text": [
      "                     DATE  UNIQUE_NATIONAL_PRICE  UNCONSTRAINED_PRICE  \\\n",
      "0     2012-01-01 01:00:00              82.813341                76.29   \n",
      "1     2012-01-01 02:00:00              75.767425                65.80   \n",
      "2     2012-01-01 03:00:00              59.919853                60.00   \n",
      "3     2012-01-01 04:00:00              59.920928                59.03   \n",
      "4     2012-01-01 05:00:00              59.010000                59.00   \n",
      "...                   ...                    ...                  ...   \n",
      "93499 2022-08-31 20:00:00             672.870080               677.88   \n",
      "93500 2022-08-31 21:00:00             743.531820               744.00   \n",
      "93501 2022-08-31 22:00:00             759.990000               759.99   \n",
      "93502 2022-08-31 23:00:00             706.072680               706.48   \n",
      "93503 2022-09-01 00:00:00             639.300000               639.30   \n",
      "\n",
      "       NORD_CENTER_PRICE  SUD_CENTER_PRICE  NORD_PRICE  SARDINA_PRICE  \\\n",
      "0               83.95000          83.95000    83.95000       83.95000   \n",
      "1               77.27000          77.27000    77.27000       77.27000   \n",
      "2               60.00000          60.00000    60.00000       60.00000   \n",
      "3               60.00000          60.00000    60.00000       60.00000   \n",
      "4               59.01000          59.01000    59.01000       59.01000   \n",
      "...                  ...               ...         ...            ...   \n",
      "93499          693.08262         650.24000   693.08262      500.00000   \n",
      "93500          743.53182         743.53182   743.53182      743.53182   \n",
      "93501          759.99000         759.99000   759.99000      759.99000   \n",
      "93502          706.07268         706.07268   706.07268      706.07268   \n",
      "93503          639.30000         639.30000   639.30000      639.30000   \n",
      "\n",
      "       SICILY_PRICE  SUD_PRICE  YEAR      MONTH  SEASON TIME_OF_DAY  \n",
      "0          70.03000   83.95000  2012    January  Winter       Night  \n",
      "1          59.03000   77.27000  2012    January  Winter       Night  \n",
      "2          59.03000   60.00000  2012    January  Winter       Night  \n",
      "3          59.03000   60.00000  2012    January  Winter       Night  \n",
      "4          59.01000   59.01000  2012    January  Winter       Night  \n",
      "...             ...        ...   ...        ...     ...         ...  \n",
      "93499     650.24000  650.24000  2022     August  Summer     Evening  \n",
      "93500     743.53182  743.53182  2022     August  Summer     Evening  \n",
      "93501     759.99000  759.99000  2022     August  Summer     Evening  \n",
      "93502     706.07268  706.07268  2022     August  Summer     Evening  \n",
      "93503     639.30000  639.30000  2022  September  Autumn       Night  \n",
      "\n",
      "[93504 rows x 13 columns]\n"
     ]
    }
   ],
   "source": [
    "# Añadir las columnas 'estaciòn', 'momento del dia', 'año' y 'mes' al dataframe.\n",
    "prices_electricidad_ph_df['YEAR'] = prices_electricidad_ph_df['DATE'].dt.year\n",
    "prices_electricidad_ph_df['MONTH'] = prices_electricidad_ph_df['DATE'].dt.month_name()\n",
    "prices_electricidad_ph_df['SEASON'] = prices_electricidad_ph_df['DATE'].dt.month.apply(asignar_estacion_en_ingles)\n",
    "prices_electricidad_ph_df['TIME_OF_DAY'] = prices_electricidad_ph_df['DATE'].dt.hour.apply(asignar_momento_dia_en_ingles)\n",
    "\n",
    "print(prices_electricidad_ph_df)"
   ]
  },
  {
   "cell_type": "code",
   "execution_count": 107,
   "metadata": {},
   "outputs": [
    {
     "name": "stdout",
     "output_type": "stream",
     "text": [
      "                     DATE  UNIQUE_NATIONAL_PRICE  UNCONSTRAINED_PRICE  \\\n",
      "87666 2021-12-31 19:00:00                 221.76               221.76   \n",
      "87667 2021-12-31 20:00:00                 219.14               219.14   \n",
      "87668 2021-12-31 21:00:00                 213.60               213.60   \n",
      "87669 2021-12-31 22:00:00                 192.79               192.79   \n",
      "87670 2021-12-31 23:00:00                 180.00               180.00   \n",
      "\n",
      "       NORD_CENTER_PRICE  SUD_CENTER_PRICE  NORD_PRICE  SARDINA_PRICE  \\\n",
      "87666             221.76            221.76      221.76         221.76   \n",
      "87667             219.14            219.14      219.14         219.14   \n",
      "87668             213.60            213.60      213.60         213.60   \n",
      "87669             192.79            192.79      192.79         192.79   \n",
      "87670             180.00            180.00      180.00         180.00   \n",
      "\n",
      "       SICILY_PRICE  SUD_PRICE  YEAR     MONTH  SEASON TIME_OF_DAY  \n",
      "87666        221.76     221.76  2021  December  Winter     Evening  \n",
      "87667        219.14     219.14  2021  December  Winter     Evening  \n",
      "87668        213.60     213.60  2021  December  Winter     Evening  \n",
      "87669        192.79     192.79  2021  December  Winter     Evening  \n",
      "87670        180.00     180.00  2021  December  Winter     Evening  \n"
     ]
    }
   ],
   "source": [
    "# VAMOS A QUITAR TODOS LOS DATOS DEL 2022 QUE NO ESTÀ COMPLETO,SOLO TENEMOS DATOS HASTA EL 1 DE SEPTIEMBRE 2022\n",
    "\n",
    "prices_electricidad_ph_df = prices_electricidad_ph_df[prices_electricidad_ph_df['YEAR'] < 2022]\n",
    "\n",
    "# VERIFICAMOS QUE EL 2022 HA SIDO ELIMINADO DEL DATAFRAME\n",
    "\n",
    "print(prices_electricidad_ph_df.tail())"
   ]
  },
  {
   "cell_type": "code",
   "execution_count": 108,
   "metadata": {},
   "outputs": [
    {
     "name": "stdout",
     "output_type": "stream",
     "text": [
      "   YEAR  UNIQUE_NATIONAL_PRICE  NORD_CENTER_PRICE  SUD_CENTER_PRICE  \\\n",
      "0  2012           6.629322e+05       6.488060e+05      6.425980e+05   \n",
      "1  2013           5.517707e+05       5.348170e+05      5.191146e+05   \n",
      "2  2014           4.562134e+05       4.343202e+05      4.280411e+05   \n",
      "3  2015           4.582076e+05       4.505942e+05      4.454027e+05   \n",
      "4  2016           3.757488e+05       3.737812e+05      3.653161e+05   \n",
      "5  2017           4.726153e+05       4.736617e+05      4.520961e+05   \n",
      "6  2018           5.370721e+05       5.349200e+05      5.338368e+05   \n",
      "7  2019           4.583740e+05       4.575703e+05      4.579496e+05   \n",
      "8  2020           3.418327e+05       3.399789e+05      3.484282e+05   \n",
      "9  2021           1.098931e+06       1.098277e+06      1.097471e+06   \n",
      "\n",
      "     NORD_PRICE  SARDINA_PRICE  SICILY_PRICE     SUD_PRICE  \\\n",
      "0  6.503885e+05   7.173337e+05  8.368290e+05  6.177844e+05   \n",
      "1  5.394934e+05   5.389026e+05  8.059153e+05  5.012309e+05   \n",
      "2  4.410887e+05   4.571279e+05  7.088711e+05  4.150281e+05   \n",
      "3  4.617272e+05   4.472566e+05  5.039863e+05  4.328981e+05   \n",
      "4  3.748121e+05   3.655481e+05  4.183308e+05  3.546051e+05   \n",
      "5  4.766411e+05   4.508894e+05  5.322177e+05  4.362635e+05   \n",
      "6  5.318362e+05   5.316583e+05  6.087106e+05  5.201052e+05   \n",
      "7  4.489501e+05   4.537391e+05  5.499095e+05  4.457907e+05   \n",
      "8  3.319330e+05   3.423355e+05  4.058526e+05  3.425952e+05   \n",
      "9  1.096628e+06   1.082409e+06  1.130097e+06  1.082379e+06   \n",
      "\n",
      "   UNCONSTRAINED_PRICE  \n",
      "0         6.471477e+05  \n",
      "1         5.344141e+05  \n",
      "2         4.369358e+05  \n",
      "3         4.582291e+05  \n",
      "4         3.691315e+05  \n",
      "5         4.614542e+05  \n",
      "6         5.315052e+05  \n",
      "7         4.519587e+05  \n",
      "8         3.376680e+05  \n",
      "9         1.094115e+06  \n"
     ]
    }
   ],
   "source": [
    "prices_electricidad_ph_df = prices_electricidad_ph_df.groupby(['YEAR']).agg({\n",
    "    'UNIQUE_NATIONAL_PRICE': 'sum',  # Sumar la columna 'Italia'\n",
    "    'NORD_CENTER_PRICE': 'sum',    # Sumar la columna 'CNOR'\n",
    "    'SUD_CENTER_PRICE': 'sum',    # Sumar la columna 'CSUD'\n",
    "    'NORD_PRICE': 'sum',    # Sumar la columna 'NORD'\n",
    "    'SARDINA_PRICE': 'sum',    # Sumar la columna 'SARD'\n",
    "    'SICILY_PRICE': 'sum',    # Sumar la columna 'SICI'\n",
    "    'SUD_PRICE': 'sum',\n",
    "    'UNCONSTRAINED_PRICE': 'sum'\n",
    "}).reset_index()\n",
    "\n",
    "print(prices_electricidad_ph_df)"
   ]
  },
  {
   "cell_type": "markdown",
   "metadata": {},
   "source": [
    "### LIMPIAR Y ANALIZAR EL TERCER DATAFRAME"
   ]
  },
  {
   "cell_type": "code",
   "execution_count": 109,
   "metadata": {},
   "outputs": [
    {
     "name": "stdout",
     "output_type": "stream",
     "text": [
      "Info dataset producción energia electrica en Italia por fuente de energia:\n",
      "<class 'pandas.core.frame.DataFrame'>\n",
      "RangeIndex: 7995 entries, 0 to 7994\n",
      "Data columns (total 11 columns):\n",
      " #   Column                                                       Non-Null Count  Dtype  \n",
      "---  ------                                                       --------------  -----  \n",
      " 0   Entity                                                       7995 non-null   object \n",
      " 1   Code                                                         7038 non-null   object \n",
      " 2   Year                                                         7995 non-null   int64  \n",
      " 3   Electricity from coal (TWh)                                  5747 non-null   float64\n",
      " 4   Electricity from gas (TWh)                                   5748 non-null   float64\n",
      " 5   Electricity from hydro (TWh)                                 7994 non-null   float64\n",
      " 6   Electricity from other renewables including bioenergy (TWh)  7989 non-null   float64\n",
      " 7   Electricity from solar (TWh)                                 7995 non-null   float64\n",
      " 8   Electricity from oil (TWh)                                   5748 non-null   float64\n",
      " 9   Electricity from wind (TWh)                                  7994 non-null   float64\n",
      " 10  Electricity from nuclear (TWh)                               7994 non-null   float64\n",
      "dtypes: float64(8), int64(1), object(2)\n",
      "memory usage: 687.2+ KB\n",
      "None\n"
     ]
    }
   ],
   "source": [
    "print('Info dataset producción energia electrica en Italia por fuente de energia:')\n",
    "print(prod_electricidad__df.info())\n"
   ]
  },
  {
   "cell_type": "code",
   "execution_count": 110,
   "metadata": {},
   "outputs": [
    {
     "name": "stdout",
     "output_type": "stream",
     "text": [
      "<class 'pandas.core.frame.DataFrame'>\n",
      "Index: 57 entries, 3556 to 3612\n",
      "Data columns (total 11 columns):\n",
      " #   Column                                                       Non-Null Count  Dtype  \n",
      "---  ------                                                       --------------  -----  \n",
      " 0   Entity                                                       57 non-null     object \n",
      " 1   Code                                                         57 non-null     object \n",
      " 2   Year                                                         57 non-null     int64  \n",
      " 3   Electricity from coal (TWh)                                  37 non-null     float64\n",
      " 4   Electricity from gas (TWh)                                   37 non-null     float64\n",
      " 5   Electricity from hydro (TWh)                                 57 non-null     float64\n",
      " 6   Electricity from other renewables including bioenergy (TWh)  57 non-null     float64\n",
      " 7   Electricity from solar (TWh)                                 57 non-null     float64\n",
      " 8   Electricity from oil (TWh)                                   37 non-null     float64\n",
      " 9   Electricity from wind (TWh)                                  57 non-null     float64\n",
      " 10  Electricity from nuclear (TWh)                               57 non-null     float64\n",
      "dtypes: float64(8), int64(1), object(2)\n",
      "memory usage: 5.3+ KB\n",
      "None\n"
     ]
    }
   ],
   "source": [
    "# en primer lugar vamos a extraer solo las filas donde el entity es igual a Italy\n",
    "prod_electricidad__df = prod_electricidad__df[prod_electricidad__df['Entity'] == 'Italy']\n",
    "print(prod_electricidad__df.info())"
   ]
  },
  {
   "cell_type": "code",
   "execution_count": 111,
   "metadata": {},
   "outputs": [
    {
     "name": "stdout",
     "output_type": "stream",
     "text": [
      "VALORES NULOS:\n",
      "Entity                                                          0\n",
      "Code                                                            0\n",
      "Year                                                            0\n",
      "Electricity from coal (TWh)                                    20\n",
      "Electricity from gas (TWh)                                     20\n",
      "Electricity from hydro (TWh)                                    0\n",
      "Electricity from other renewables including bioenergy (TWh)     0\n",
      "Electricity from solar (TWh)                                    0\n",
      "Electricity from oil (TWh)                                     20\n",
      "Electricity from wind (TWh)                                     0\n",
      "Electricity from nuclear (TWh)                                  0\n",
      "dtype: int64\n"
     ]
    }
   ],
   "source": [
    "# Comprobar si hay valores nulos en demanda_electrica_horaria_it_df\n",
    "print('VALORES NULOS:')\n",
    "print(prod_electricidad__df.isnull().sum())\n",
    "\n"
   ]
  },
  {
   "cell_type": "code",
   "execution_count": 112,
   "metadata": {},
   "outputs": [
    {
     "name": "stdout",
     "output_type": "stream",
     "text": [
      "Entity                                                         0\n",
      "Code                                                           0\n",
      "Year                                                           0\n",
      "Electricity from coal (TWh)                                    0\n",
      "Electricity from gas (TWh)                                     0\n",
      "Electricity from hydro (TWh)                                   0\n",
      "Electricity from other renewables including bioenergy (TWh)    0\n",
      "Electricity from solar (TWh)                                   0\n",
      "Electricity from oil (TWh)                                     0\n",
      "Electricity from wind (TWh)                                    0\n",
      "Electricity from nuclear (TWh)                                 0\n",
      "dtype: int64\n"
     ]
    }
   ],
   "source": [
    "\n",
    "# en este caso vamos a poner 0.0 como float en cambio de los nulos\n",
    "\n",
    "prod_electricidad__df = prod_electricidad__df.fillna(float(0.0))\n",
    "print(prod_electricidad__df.isnull().sum())\n"
   ]
  },
  {
   "cell_type": "code",
   "execution_count": 113,
   "metadata": {},
   "outputs": [
    {
     "name": "stdout",
     "output_type": "stream",
     "text": [
      "   Year  Electricity from coal (TWh)  Electricity from gas (TWh)  \\\n",
      "0  1985                       30.023                      24.712   \n",
      "1  1986                       31.004                      26.871   \n",
      "2  1987                       33.035                      31.732   \n",
      "3  1988                       33.897                      32.420   \n",
      "4  1989                       31.867                      34.407   \n",
      "\n",
      "   Electricity from hydro (TWh)  \\\n",
      "0                        41.092   \n",
      "1                        41.096   \n",
      "2                        39.505   \n",
      "3                        40.676   \n",
      "4                        34.057   \n",
      "\n",
      "   Electricity from other renewables including bioenergy (TWh)  \\\n",
      "0                                              3.212             \n",
      "1                                              3.501             \n",
      "2                                              3.693             \n",
      "3                                              3.787             \n",
      "4                                              3.197             \n",
      "\n",
      "   Electricity from solar (TWh)  Electricity from oil (TWh)  \\\n",
      "0                         0.000                      76.174   \n",
      "1                         0.000                      77.483   \n",
      "2                         0.000                      89.941   \n",
      "3                         0.000                      89.702   \n",
      "4                         0.002                     101.785   \n",
      "\n",
      "   Electricity from wind (TWh)  Electricity from nuclear (TWh)  \n",
      "0                        0.000                           7.024  \n",
      "1                        0.000                           8.758  \n",
      "2                        0.000                           0.174  \n",
      "3                        0.000                           0.000  \n",
      "4                        0.002                           0.000  \n"
     ]
    }
   ],
   "source": [
    "# vamos a organizar el dataframe quitando las columnas que ya no intersan como del entity  y del code\n",
    "columnas_a_selecionar = [\n",
    "    'Year', \n",
    "    'Electricity from coal (TWh)', \n",
    "    'Electricity from gas (TWh)', \n",
    "    'Electricity from hydro (TWh)', \n",
    "    'Electricity from other renewables including bioenergy (TWh)', \n",
    "    'Electricity from solar (TWh)', \n",
    "    'Electricity from oil (TWh)', \n",
    "    'Electricity from wind (TWh)', \n",
    "    'Electricity from nuclear (TWh)'\n",
    "]\n",
    "\n",
    "prod_electricidad__df = prod_electricidad__df[columnas_a_selecionar]\n",
    "\n",
    "# resetear el index\n",
    "prod_electricidad__df = prod_electricidad__df.reset_index(drop=True)\n",
    "print(prod_electricidad__df.head())\n",
    "\n"
   ]
  },
  {
   "cell_type": "code",
   "execution_count": 114,
   "metadata": {},
   "outputs": [
    {
     "name": "stdout",
     "output_type": "stream",
     "text": [
      "   Year  Electricity from coal (MWh)  Electricity from gas (MWh)  \\\n",
      "0  1985                   30023000.0                  24712000.0   \n",
      "1  1986                   31004000.0                  26871000.0   \n",
      "2  1987                   33035000.0                  31732000.0   \n",
      "3  1988                   33897000.0                  32420000.0   \n",
      "4  1989                   31867000.0                  34407000.0   \n",
      "\n",
      "   Electricity from hydro (MWh)  \\\n",
      "0                    41092000.0   \n",
      "1                    41096000.0   \n",
      "2                    39505000.0   \n",
      "3                    40676000.0   \n",
      "4                    34057000.0   \n",
      "\n",
      "   Electricity from other renewables including bioenergy (MWh)  \\\n",
      "0                                          3212000.0             \n",
      "1                                          3501000.0             \n",
      "2                                          3693000.0             \n",
      "3                                          3787000.0             \n",
      "4                                          3197000.0             \n",
      "\n",
      "   Electricity from solar (MWh)  Electricity from oil (MWh)  \\\n",
      "0                           0.0                  76174000.0   \n",
      "1                           0.0                  77483000.0   \n",
      "2                           0.0                  89941000.0   \n",
      "3                           0.0                  89702000.0   \n",
      "4                        2000.0                 101785000.0   \n",
      "\n",
      "   Electricity from wind (MWh)  Electricity from nuclear (MWh)  \n",
      "0                          0.0                       7024000.0  \n",
      "1                          0.0                       8758000.0  \n",
      "2                          0.0                        174000.0  \n",
      "3                          0.0                             0.0  \n",
      "4                       2000.0                             0.0  \n"
     ]
    }
   ],
   "source": [
    "# pasar los valores de TWh a MWh\n",
    "columns_to_convert = [\n",
    "    'Electricity from coal (TWh)', \n",
    "    'Electricity from gas (TWh)', \n",
    "    'Electricity from hydro (TWh)', \n",
    "    'Electricity from other renewables including bioenergy (TWh)', \n",
    "    'Electricity from solar (TWh)', \n",
    "    'Electricity from oil (TWh)', \n",
    "    'Electricity from wind (TWh)', \n",
    "    'Electricity from nuclear (TWh)'\n",
    "]\n",
    "\n",
    "for col in columns_to_convert:\n",
    "    prod_electricidad__df[col] *= 1000000\n",
    "    \n",
    "\n",
    "# Renombrar columnas automáticamente\n",
    "prod_electricidad__df = prod_electricidad__df.rename(columns={col: col.replace('TWh', 'MWh') for col in columns_to_convert})\n",
    "\n",
    "print(prod_electricidad__df.head())\n"
   ]
  },
  {
   "cell_type": "markdown",
   "metadata": {},
   "source": [
    "### LIMPIAR Y ANALIZAR CUARTO DATAFRAME"
   ]
  },
  {
   "cell_type": "code",
   "execution_count": 115,
   "metadata": {},
   "outputs": [
    {
     "name": "stdout",
     "output_type": "stream",
     "text": [
      "Info dataset precios futuros del gas natural en Europa:\n",
      "<class 'pandas.core.frame.DataFrame'>\n",
      "RangeIndex: 1224 entries, 0 to 1223\n",
      "Data columns (total 7 columns):\n",
      " #   Column     Non-Null Count  Dtype  \n",
      "---  ------     --------------  -----  \n",
      " 0   time       1224 non-null   object \n",
      " 1   open       1224 non-null   float64\n",
      " 2   high       1224 non-null   float64\n",
      " 3   low        1224 non-null   float64\n",
      " 4   close      1224 non-null   float64\n",
      " 5   Volume     1224 non-null   int64  \n",
      " 6   Volume MA  1205 non-null   float64\n",
      "dtypes: float64(5), int64(1), object(1)\n",
      "memory usage: 67.1+ KB\n",
      "None\n"
     ]
    }
   ],
   "source": [
    "print('Info dataset precios futuros del gas natural en Europa:')\n",
    "print(gas_precios_futuros_df.info())"
   ]
  },
  {
   "cell_type": "code",
   "execution_count": 116,
   "metadata": {},
   "outputs": [
    {
     "name": "stdout",
     "output_type": "stream",
     "text": [
      "                       DATE   open   high    low  close  Volume  Volume MA\n",
      "0 2017-10-22 22:00:00+00:00  18.09  18.09  18.09  18.09       0        NaN\n",
      "1 2017-10-23 22:00:00+00:00  17.96  17.96  17.96  17.96       0        NaN\n",
      "2 2017-10-24 22:00:00+00:00  18.11  18.11  18.11  18.11       0        NaN\n",
      "3 2017-10-25 22:00:00+00:00  18.07  18.07  18.07  18.07       0        NaN\n",
      "4 2017-10-26 22:00:00+00:00  18.15  18.15  18.15  18.15       0        NaN\n"
     ]
    }
   ],
   "source": [
    "# VAMOS A PASAR LA COLUMNA TIME A DATETIEM Y LA RENOMBRAMOS A \"DATE\"\n",
    "\n",
    "gas_precios_futuros_df['time'] = pd.to_datetime(gas_precios_futuros_df['time'], utc=True)\n",
    "gas_precios_futuros_df = gas_precios_futuros_df.rename(columns={'time':'DATE'})\n",
    "print(gas_precios_futuros_df.head())\n"
   ]
  },
  {
   "cell_type": "code",
   "execution_count": 117,
   "metadata": {},
   "outputs": [
    {
     "name": "stdout",
     "output_type": "stream",
     "text": [
      "Valores nulos:\n",
      "DATE          0\n",
      "open          0\n",
      "high          0\n",
      "low           0\n",
      "close         0\n",
      "Volume        0\n",
      "Volume MA    19\n",
      "dtype: int64\n"
     ]
    }
   ],
   "source": [
    "# ver los valores nulos\n",
    "print('Valores nulos:')\n",
    "print(gas_precios_futuros_df.isnull().sum())\n"
   ]
  },
  {
   "cell_type": "code",
   "execution_count": 118,
   "metadata": {},
   "outputs": [
    {
     "name": "stdout",
     "output_type": "stream",
     "text": [
      "<class 'pandas.core.frame.DataFrame'>\n",
      "RangeIndex: 1224 entries, 0 to 1223\n",
      "Data columns (total 7 columns):\n",
      " #   Column     Non-Null Count  Dtype              \n",
      "---  ------     --------------  -----              \n",
      " 0   DATE       1224 non-null   datetime64[ns, UTC]\n",
      " 1   open       1224 non-null   float64            \n",
      " 2   high       1224 non-null   float64            \n",
      " 3   low        1224 non-null   float64            \n",
      " 4   close      1224 non-null   float64            \n",
      " 5   Volume     1224 non-null   float64            \n",
      " 6   Volume MA  1205 non-null   float64            \n",
      "dtypes: datetime64[ns, UTC](1), float64(6)\n",
      "memory usage: 67.1 KB\n",
      "None\n"
     ]
    }
   ],
   "source": [
    "# pasar la columna Volume a float\n",
    "gas_precios_futuros_df['Volume'] = gas_precios_futuros_df['Volume'].astype('float64')\n",
    "print(gas_precios_futuros_df.info())"
   ]
  },
  {
   "cell_type": "code",
   "execution_count": 119,
   "metadata": {},
   "outputs": [
    {
     "name": "stdout",
     "output_type": "stream",
     "text": [
      "                        DATE    open    high     low   close  Volume  \\\n",
      "0  2017-10-22 22:00:00+00:00  18.090  18.090  18.090  18.090     0.0   \n",
      "1  2017-10-23 22:00:00+00:00  17.960  17.960  17.960  17.960     0.0   \n",
      "2  2017-10-24 22:00:00+00:00  18.110  18.110  18.110  18.110     0.0   \n",
      "3  2017-10-25 22:00:00+00:00  18.070  18.070  18.070  18.070     0.0   \n",
      "4  2017-10-26 22:00:00+00:00  18.150  18.150  18.150  18.150     0.0   \n",
      "5  2017-10-29 22:00:00+00:00  18.110  18.110  18.110  18.110     0.0   \n",
      "6  2017-10-30 22:00:00+00:00  18.285  18.285  18.285  18.285     0.0   \n",
      "7  2017-10-31 22:00:00+00:00  18.550  18.550  18.550  18.550     0.0   \n",
      "8  2017-11-01 22:00:00+00:00  18.580  18.580  18.580  18.580     0.0   \n",
      "9  2017-11-02 22:00:00+00:00  18.310  18.310  18.310  18.310     0.0   \n",
      "10 2017-11-05 23:00:00+00:00  19.010  19.010  19.010  19.010     0.0   \n",
      "11 2017-11-06 23:00:00+00:00  19.325  19.325  19.325  19.325     0.0   \n",
      "12 2017-11-07 23:00:00+00:00  19.380  19.380  19.380  19.380     0.0   \n",
      "13 2017-11-08 23:00:00+00:00  19.515  19.515  19.515  19.515     0.0   \n",
      "14 2017-11-09 23:00:00+00:00  19.820  19.820  19.820  19.820     0.0   \n",
      "15 2017-11-12 23:00:00+00:00  19.905  19.905  19.905  19.905     0.0   \n",
      "16 2017-11-13 23:00:00+00:00  19.335  19.335  19.335  19.335     0.0   \n",
      "17 2017-11-14 23:00:00+00:00  19.015  19.015  19.015  19.015     0.0   \n",
      "18 2017-11-15 23:00:00+00:00  19.200  19.200  19.200  19.200     0.0   \n",
      "19 2017-11-16 23:00:00+00:00  18.950  18.950  18.950  18.950     0.0   \n",
      "\n",
      "    Volume MA  \n",
      "0         NaN  \n",
      "1         NaN  \n",
      "2         NaN  \n",
      "3         NaN  \n",
      "4         NaN  \n",
      "5         NaN  \n",
      "6         NaN  \n",
      "7         NaN  \n",
      "8         NaN  \n",
      "9         NaN  \n",
      "10        NaN  \n",
      "11        NaN  \n",
      "12        NaN  \n",
      "13        NaN  \n",
      "14        NaN  \n",
      "15        NaN  \n",
      "16        NaN  \n",
      "17        NaN  \n",
      "18        NaN  \n",
      "19        0.0  \n"
     ]
    }
   ],
   "source": [
    "# ordenar el dataframe por la fecha mas antigua hasta la mas recien\n",
    "gas_precios_futuros_df= gas_precios_futuros_df.sort_values(by='DATE', ascending=True)\n",
    "print(gas_precios_futuros_df.head(20))"
   ]
  },
  {
   "cell_type": "code",
   "execution_count": 120,
   "metadata": {},
   "outputs": [
    {
     "name": "stdout",
     "output_type": "stream",
     "text": [
      "       DATE   open   high    low  close  Volume  Volume MA\n",
      "0     False  False  False  False  False   False       True\n",
      "1     False  False  False  False  False   False       True\n",
      "2     False  False  False  False  False   False       True\n",
      "3     False  False  False  False  False   False       True\n",
      "4     False  False  False  False  False   False       True\n",
      "...     ...    ...    ...    ...    ...     ...        ...\n",
      "1219  False  False  False  False  False   False      False\n",
      "1220  False  False  False  False  False   False      False\n",
      "1221  False  False  False  False  False   False      False\n",
      "1222  False  False  False  False  False   False      False\n",
      "1223  False  False  False  False  False   False      False\n",
      "\n",
      "[1224 rows x 7 columns]\n"
     ]
    }
   ],
   "source": [
    "# ver donde estàn los nulos, osea si son consecutivos en el tiempo o no\n",
    "print(gas_precios_futuros_df.isnull())"
   ]
  }
 ],
 "metadata": {
  "kernelspec": {
   "display_name": "Dataenv",
   "language": "python",
   "name": "python3"
  },
  "language_info": {
   "codemirror_mode": {
    "name": "ipython",
    "version": 3
   },
   "file_extension": ".py",
   "mimetype": "text/x-python",
   "name": "python",
   "nbconvert_exporter": "python",
   "pygments_lexer": "ipython3",
   "version": "3.13.0"
  }
 },
 "nbformat": 4,
 "nbformat_minor": 2
}
