{
 "cells": [
  {
   "cell_type": "markdown",
   "metadata": {},
   "source": [
    "# **Análisis de Demanda y Precio de la Electricidad en Italia**\n",
    "\n",
    "En este notebook vamos a realizar un análisis de la **demanda** y los **precios de la electricidad** en diversas zonas de Italia. El DataFrame contiene datos históricos de consumo de electricidad y precios en diferentes regiones italianas. Las unidades de medida de los datos son las siguientes:\n",
    "\n",
    "- **Demanda de electricidad** en **megavatios hora (MWh)**.\n",
    "- **Precios de la electricidad** en **euros por megavatio hora (€/MWh)**.\n",
    "  \n",
    "Este análisis nos permitirá explorar las tendencias y patrones relacionados con la demanda y los precios de la electricidad a lo largo del tiempo y en distintas zonas.\n",
    "\n",
    "¡Comencemos! "
   ]
  },
  {
   "cell_type": "code",
   "execution_count": 2,
   "metadata": {},
   "outputs": [],
   "source": [
    "# importamos la librerias\n",
    "import pandas as pd\n",
    "import matplotlib.pyplot as plt\n"
   ]
  },
  {
   "cell_type": "code",
   "execution_count": 3,
   "metadata": {},
   "outputs": [
    {
     "name": "stdout",
     "output_type": "stream",
     "text": [
      "<class 'pandas.core.frame.DataFrame'>\n",
      "RangeIndex: 87671 entries, 0 to 87670\n",
      "Data columns (total 20 columns):\n",
      " #   Column                 Non-Null Count  Dtype  \n",
      "---  ------                 --------------  -----  \n",
      " 0   DATE                   87671 non-null  object \n",
      " 1   ITALIA_DEMAND          87671 non-null  float64\n",
      " 2   CNOR_DEMAND            87671 non-null  float64\n",
      " 3   CSUD_DEMAND            87671 non-null  float64\n",
      " 4   NORD_DEMAND            87671 non-null  float64\n",
      " 5   SARD_DEMAND            87671 non-null  float64\n",
      " 6   SICI_DEMAND            87671 non-null  float64\n",
      " 7   SUD_DEMAND             87671 non-null  float64\n",
      " 8   YEAR                   87671 non-null  int64  \n",
      " 9   MONTH                  87671 non-null  object \n",
      " 10  SEASON                 87671 non-null  object \n",
      " 11  TIME_OF_DAY            87671 non-null  object \n",
      " 12  UNIQUE_NATIONAL_PRICE  87671 non-null  float64\n",
      " 13  UNCONSTRAINED_PRICE    87671 non-null  float64\n",
      " 14  NORD_CENTER_PRICE      87671 non-null  float64\n",
      " 15  SUD_CENTER_PRICE       87671 non-null  float64\n",
      " 16  NORD_PRICE             87671 non-null  float64\n",
      " 17  SARDINA_PRICE          87671 non-null  float64\n",
      " 18  SICILY_PRICE           87671 non-null  float64\n",
      " 19  SUD_PRICE              87671 non-null  float64\n",
      "dtypes: float64(15), int64(1), object(4)\n",
      "memory usage: 13.4+ MB\n",
      "None\n",
      "                  DATE  ITALIA_DEMAND  CNOR_DEMAND  CSUD_DEMAND  NORD_DEMAND  \\\n",
      "0  2012-01-01 01:00:00      24659.161     2662.703     4534.718    11693.113   \n",
      "1  2012-01-01 02:00:00      23387.590     2539.670     4240.313    11113.677   \n",
      "2  2012-01-01 03:00:00      22090.760     2403.112     3927.174    10558.286   \n",
      "3  2012-01-01 04:00:00      21009.116     2267.737     3692.188    10126.168   \n",
      "4  2012-01-01 05:00:00      20350.988     2186.529     3569.043     9851.236   \n",
      "\n",
      "   SARD_DEMAND  SICI_DEMAND  SUD_DEMAND  YEAR    MONTH  SEASON TIME_OF_DAY  \\\n",
      "0     1460.687     2013.582    2294.358  2012  January  Winter       Night   \n",
      "1     1437.934     1926.623    2129.373  2012  January  Winter       Night   \n",
      "2     1410.237     1825.260    1966.691  2012  January  Winter       Night   \n",
      "3     1379.016     1712.619    1831.388  2012  January  Winter       Night   \n",
      "4     1340.877     1627.099    1776.204  2012  January  Winter       Night   \n",
      "\n",
      "   UNIQUE_NATIONAL_PRICE  UNCONSTRAINED_PRICE  NORD_CENTER_PRICE  \\\n",
      "0              82.813341                76.29              83.95   \n",
      "1              75.767425                65.80              77.27   \n",
      "2              59.919853                60.00              60.00   \n",
      "3              59.920928                59.03              60.00   \n",
      "4              59.010000                59.00              59.01   \n",
      "\n",
      "   SUD_CENTER_PRICE  NORD_PRICE  SARDINA_PRICE  SICILY_PRICE  SUD_PRICE  \n",
      "0             83.95       83.95          83.95         70.03      83.95  \n",
      "1             77.27       77.27          77.27         59.03      77.27  \n",
      "2             60.00       60.00          60.00         59.03      60.00  \n",
      "3             60.00       60.00          60.00         59.03      60.00  \n",
      "4             59.01       59.01          59.01         59.01      59.01  \n"
     ]
    }
   ],
   "source": [
    "# vamos a cargar el nuevo dataframe cargado en el csv DEMANDA_PRECIOS.csv\n",
    "\n",
    "df = pd.read_csv('DEMANDA_PRECIOS.csv')\n",
    "print(df.info())\n",
    "print(df.head())"
   ]
  },
  {
   "cell_type": "markdown",
   "metadata": {},
   "source": [
    "# Análisis de Precios de la Electricidad\n",
    "\n",
    "En este análisis, hemos formulado algunas preguntas clave sobre los **precios de la electricidad** en las diferentes zonas de Italia. A continuación, planteamos las preguntas que vamos a abordar utilizando **Python** para extraer las respuestas de los datos:\n",
    "\n",
    "### Sobre precios:\n",
    "1. ¿En qué año los precios de la electricidad fueron más altos en cada zona (NORD, SARD, SICI, SUD, etc.)?\n",
    "2. ¿Cuál ha sido la tendencia de los precios en cada zona a lo largo de los años? (¿Están subiendo o bajando?)\n",
    "3. ¿Qué mes del año suele tener los precios más altos en cada zona?\n",
    "4. ¿En qué estación del año (invierno, verano, etc.) los precios son más altos?\n",
    "5. ¿A qué hora del día (mañana, tarde, noche) los precios suelen ser más altos?\n",
    "6. ¿Qué zona tiene el precio promedio más alto y cuál el más bajo a lo largo de todos los años?\n",
    "7. ¿Cómo se relaciona el precio único nacional con los precios por zona? (¿Son similares o hay grandes diferencias?)"
   ]
  }
 ],
 "metadata": {
  "kernelspec": {
   "display_name": "Dataenv",
   "language": "python",
   "name": "python3"
  },
  "language_info": {
   "codemirror_mode": {
    "name": "ipython",
    "version": 3
   },
   "file_extension": ".py",
   "mimetype": "text/x-python",
   "name": "python",
   "nbconvert_exporter": "python",
   "pygments_lexer": "ipython3",
   "version": "3.13.0"
  }
 },
 "nbformat": 4,
 "nbformat_minor": 2
}
